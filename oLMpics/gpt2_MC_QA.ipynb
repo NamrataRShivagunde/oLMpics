{
  "nbformat": 4,
  "nbformat_minor": 0,
  "metadata": {
    "colab": {
      "name": "gpt2_MC-QA.ipynb",
      "provenance": [],
      "collapsed_sections": []
    },
    "kernelspec": {
      "name": "python3",
      "display_name": "Python 3"
    },
    "language_info": {
      "name": "python"
    },
    "widgets": {
      "application/vnd.jupyter.widget-state+json": {
        "fc4562dde1b5443dbace5f383a444e06": {
          "model_module": "@jupyter-widgets/controls",
          "model_name": "HBoxModel",
          "model_module_version": "1.5.0",
          "state": {
            "_view_name": "HBoxView",
            "_dom_classes": [],
            "_model_name": "HBoxModel",
            "_view_module": "@jupyter-widgets/controls",
            "_model_module_version": "1.5.0",
            "_view_count": null,
            "_view_module_version": "1.5.0",
            "box_style": "",
            "layout": "IPY_MODEL_32fa534dfce244f692ef73a6c1f31474",
            "_model_module": "@jupyter-widgets/controls",
            "children": [
              "IPY_MODEL_13b3fb0c739d4b108ad0db665ee885c5",
              "IPY_MODEL_110ae4131883492ab3f8019849acf49a",
              "IPY_MODEL_73b6ce01842f46beb8af8261de38cb20"
            ]
          }
        },
        "32fa534dfce244f692ef73a6c1f31474": {
          "model_module": "@jupyter-widgets/base",
          "model_name": "LayoutModel",
          "model_module_version": "1.2.0",
          "state": {
            "_view_name": "LayoutView",
            "grid_template_rows": null,
            "right": null,
            "justify_content": null,
            "_view_module": "@jupyter-widgets/base",
            "overflow": null,
            "_model_module_version": "1.2.0",
            "_view_count": null,
            "flex_flow": null,
            "width": null,
            "min_width": null,
            "border": null,
            "align_items": null,
            "bottom": null,
            "_model_module": "@jupyter-widgets/base",
            "top": null,
            "grid_column": null,
            "overflow_y": null,
            "overflow_x": null,
            "grid_auto_flow": null,
            "grid_area": null,
            "grid_template_columns": null,
            "flex": null,
            "_model_name": "LayoutModel",
            "justify_items": null,
            "grid_row": null,
            "max_height": null,
            "align_content": null,
            "visibility": null,
            "align_self": null,
            "height": null,
            "min_height": null,
            "padding": null,
            "grid_auto_rows": null,
            "grid_gap": null,
            "max_width": null,
            "order": null,
            "_view_module_version": "1.2.0",
            "grid_template_areas": null,
            "object_position": null,
            "object_fit": null,
            "grid_auto_columns": null,
            "margin": null,
            "display": null,
            "left": null
          }
        },
        "13b3fb0c739d4b108ad0db665ee885c5": {
          "model_module": "@jupyter-widgets/controls",
          "model_name": "HTMLModel",
          "model_module_version": "1.5.0",
          "state": {
            "_view_name": "HTMLView",
            "style": "IPY_MODEL_3d18a32a67b1413993fc8b1e1c3f81e8",
            "_dom_classes": [],
            "description": "",
            "_model_name": "HTMLModel",
            "placeholder": "​",
            "_view_module": "@jupyter-widgets/controls",
            "_model_module_version": "1.5.0",
            "value": "100%",
            "_view_count": null,
            "_view_module_version": "1.5.0",
            "description_tooltip": null,
            "_model_module": "@jupyter-widgets/controls",
            "layout": "IPY_MODEL_d588ec7c685c4f969d03dd6217d05e21"
          }
        },
        "110ae4131883492ab3f8019849acf49a": {
          "model_module": "@jupyter-widgets/controls",
          "model_name": "FloatProgressModel",
          "model_module_version": "1.5.0",
          "state": {
            "_view_name": "ProgressView",
            "style": "IPY_MODEL_8a12098aca924ce7a87895ddb785e2e1",
            "_dom_classes": [],
            "description": "",
            "_model_name": "FloatProgressModel",
            "bar_style": "success",
            "max": 500,
            "_view_module": "@jupyter-widgets/controls",
            "_model_module_version": "1.5.0",
            "value": 500,
            "_view_count": null,
            "_view_module_version": "1.5.0",
            "orientation": "horizontal",
            "min": 0,
            "description_tooltip": null,
            "_model_module": "@jupyter-widgets/controls",
            "layout": "IPY_MODEL_db12bfab18d64b3b9d42700c22fa49fc"
          }
        },
        "73b6ce01842f46beb8af8261de38cb20": {
          "model_module": "@jupyter-widgets/controls",
          "model_name": "HTMLModel",
          "model_module_version": "1.5.0",
          "state": {
            "_view_name": "HTMLView",
            "style": "IPY_MODEL_e6be2c071d204521ae877d59a711990f",
            "_dom_classes": [],
            "description": "",
            "_model_name": "HTMLModel",
            "placeholder": "​",
            "_view_module": "@jupyter-widgets/controls",
            "_model_module_version": "1.5.0",
            "value": " 500/500 [00:00&lt;00:00, 13901.77it/s]",
            "_view_count": null,
            "_view_module_version": "1.5.0",
            "description_tooltip": null,
            "_model_module": "@jupyter-widgets/controls",
            "layout": "IPY_MODEL_6607d2fc5e054a1188daa88a0bcdba13"
          }
        },
        "3d18a32a67b1413993fc8b1e1c3f81e8": {
          "model_module": "@jupyter-widgets/controls",
          "model_name": "DescriptionStyleModel",
          "model_module_version": "1.5.0",
          "state": {
            "_view_name": "StyleView",
            "_model_name": "DescriptionStyleModel",
            "description_width": "",
            "_view_module": "@jupyter-widgets/base",
            "_model_module_version": "1.5.0",
            "_view_count": null,
            "_view_module_version": "1.2.0",
            "_model_module": "@jupyter-widgets/controls"
          }
        },
        "d588ec7c685c4f969d03dd6217d05e21": {
          "model_module": "@jupyter-widgets/base",
          "model_name": "LayoutModel",
          "model_module_version": "1.2.0",
          "state": {
            "_view_name": "LayoutView",
            "grid_template_rows": null,
            "right": null,
            "justify_content": null,
            "_view_module": "@jupyter-widgets/base",
            "overflow": null,
            "_model_module_version": "1.2.0",
            "_view_count": null,
            "flex_flow": null,
            "width": null,
            "min_width": null,
            "border": null,
            "align_items": null,
            "bottom": null,
            "_model_module": "@jupyter-widgets/base",
            "top": null,
            "grid_column": null,
            "overflow_y": null,
            "overflow_x": null,
            "grid_auto_flow": null,
            "grid_area": null,
            "grid_template_columns": null,
            "flex": null,
            "_model_name": "LayoutModel",
            "justify_items": null,
            "grid_row": null,
            "max_height": null,
            "align_content": null,
            "visibility": null,
            "align_self": null,
            "height": null,
            "min_height": null,
            "padding": null,
            "grid_auto_rows": null,
            "grid_gap": null,
            "max_width": null,
            "order": null,
            "_view_module_version": "1.2.0",
            "grid_template_areas": null,
            "object_position": null,
            "object_fit": null,
            "grid_auto_columns": null,
            "margin": null,
            "display": null,
            "left": null
          }
        },
        "8a12098aca924ce7a87895ddb785e2e1": {
          "model_module": "@jupyter-widgets/controls",
          "model_name": "ProgressStyleModel",
          "model_module_version": "1.5.0",
          "state": {
            "_view_name": "StyleView",
            "_model_name": "ProgressStyleModel",
            "description_width": "",
            "_view_module": "@jupyter-widgets/base",
            "_model_module_version": "1.5.0",
            "_view_count": null,
            "_view_module_version": "1.2.0",
            "bar_color": null,
            "_model_module": "@jupyter-widgets/controls"
          }
        },
        "db12bfab18d64b3b9d42700c22fa49fc": {
          "model_module": "@jupyter-widgets/base",
          "model_name": "LayoutModel",
          "model_module_version": "1.2.0",
          "state": {
            "_view_name": "LayoutView",
            "grid_template_rows": null,
            "right": null,
            "justify_content": null,
            "_view_module": "@jupyter-widgets/base",
            "overflow": null,
            "_model_module_version": "1.2.0",
            "_view_count": null,
            "flex_flow": null,
            "width": null,
            "min_width": null,
            "border": null,
            "align_items": null,
            "bottom": null,
            "_model_module": "@jupyter-widgets/base",
            "top": null,
            "grid_column": null,
            "overflow_y": null,
            "overflow_x": null,
            "grid_auto_flow": null,
            "grid_area": null,
            "grid_template_columns": null,
            "flex": null,
            "_model_name": "LayoutModel",
            "justify_items": null,
            "grid_row": null,
            "max_height": null,
            "align_content": null,
            "visibility": null,
            "align_self": null,
            "height": null,
            "min_height": null,
            "padding": null,
            "grid_auto_rows": null,
            "grid_gap": null,
            "max_width": null,
            "order": null,
            "_view_module_version": "1.2.0",
            "grid_template_areas": null,
            "object_position": null,
            "object_fit": null,
            "grid_auto_columns": null,
            "margin": null,
            "display": null,
            "left": null
          }
        },
        "e6be2c071d204521ae877d59a711990f": {
          "model_module": "@jupyter-widgets/controls",
          "model_name": "DescriptionStyleModel",
          "model_module_version": "1.5.0",
          "state": {
            "_view_name": "StyleView",
            "_model_name": "DescriptionStyleModel",
            "description_width": "",
            "_view_module": "@jupyter-widgets/base",
            "_model_module_version": "1.5.0",
            "_view_count": null,
            "_view_module_version": "1.2.0",
            "_model_module": "@jupyter-widgets/controls"
          }
        },
        "6607d2fc5e054a1188daa88a0bcdba13": {
          "model_module": "@jupyter-widgets/base",
          "model_name": "LayoutModel",
          "model_module_version": "1.2.0",
          "state": {
            "_view_name": "LayoutView",
            "grid_template_rows": null,
            "right": null,
            "justify_content": null,
            "_view_module": "@jupyter-widgets/base",
            "overflow": null,
            "_model_module_version": "1.2.0",
            "_view_count": null,
            "flex_flow": null,
            "width": null,
            "min_width": null,
            "border": null,
            "align_items": null,
            "bottom": null,
            "_model_module": "@jupyter-widgets/base",
            "top": null,
            "grid_column": null,
            "overflow_y": null,
            "overflow_x": null,
            "grid_auto_flow": null,
            "grid_area": null,
            "grid_template_columns": null,
            "flex": null,
            "_model_name": "LayoutModel",
            "justify_items": null,
            "grid_row": null,
            "max_height": null,
            "align_content": null,
            "visibility": null,
            "align_self": null,
            "height": null,
            "min_height": null,
            "padding": null,
            "grid_auto_rows": null,
            "grid_gap": null,
            "max_width": null,
            "order": null,
            "_view_module_version": "1.2.0",
            "grid_template_areas": null,
            "object_position": null,
            "object_fit": null,
            "grid_auto_columns": null,
            "margin": null,
            "display": null,
            "left": null
          }
        },
        "37d50d62c7654362ad52c30e8abf838f": {
          "model_module": "@jupyter-widgets/controls",
          "model_name": "HBoxModel",
          "model_module_version": "1.5.0",
          "state": {
            "_view_name": "HBoxView",
            "_dom_classes": [],
            "_model_name": "HBoxModel",
            "_view_module": "@jupyter-widgets/controls",
            "_model_module_version": "1.5.0",
            "_view_count": null,
            "_view_module_version": "1.5.0",
            "box_style": "",
            "layout": "IPY_MODEL_90cab21ab9ec4ed3a5b44000b1c4909f",
            "_model_module": "@jupyter-widgets/controls",
            "children": [
              "IPY_MODEL_6f899722351e4f68b1022cd4b00c541a",
              "IPY_MODEL_217a99ba3ad744dda7e98e7f8c02758b",
              "IPY_MODEL_d236edde5d8a4facbbae99fa571ab777"
            ]
          }
        },
        "90cab21ab9ec4ed3a5b44000b1c4909f": {
          "model_module": "@jupyter-widgets/base",
          "model_name": "LayoutModel",
          "model_module_version": "1.2.0",
          "state": {
            "_view_name": "LayoutView",
            "grid_template_rows": null,
            "right": null,
            "justify_content": null,
            "_view_module": "@jupyter-widgets/base",
            "overflow": null,
            "_model_module_version": "1.2.0",
            "_view_count": null,
            "flex_flow": null,
            "width": null,
            "min_width": null,
            "border": null,
            "align_items": null,
            "bottom": null,
            "_model_module": "@jupyter-widgets/base",
            "top": null,
            "grid_column": null,
            "overflow_y": null,
            "overflow_x": null,
            "grid_auto_flow": null,
            "grid_area": null,
            "grid_template_columns": null,
            "flex": null,
            "_model_name": "LayoutModel",
            "justify_items": null,
            "grid_row": null,
            "max_height": null,
            "align_content": null,
            "visibility": null,
            "align_self": null,
            "height": null,
            "min_height": null,
            "padding": null,
            "grid_auto_rows": null,
            "grid_gap": null,
            "max_width": null,
            "order": null,
            "_view_module_version": "1.2.0",
            "grid_template_areas": null,
            "object_position": null,
            "object_fit": null,
            "grid_auto_columns": null,
            "margin": null,
            "display": null,
            "left": null
          }
        },
        "6f899722351e4f68b1022cd4b00c541a": {
          "model_module": "@jupyter-widgets/controls",
          "model_name": "HTMLModel",
          "model_module_version": "1.5.0",
          "state": {
            "_view_name": "HTMLView",
            "style": "IPY_MODEL_52c2c9499d4a4adfac1697eac41b313b",
            "_dom_classes": [],
            "description": "",
            "_model_name": "HTMLModel",
            "placeholder": "​",
            "_view_module": "@jupyter-widgets/controls",
            "_model_module_version": "1.5.0",
            "value": "Downloading: 100%",
            "_view_count": null,
            "_view_module_version": "1.5.0",
            "description_tooltip": null,
            "_model_module": "@jupyter-widgets/controls",
            "layout": "IPY_MODEL_77a80084113e47fa8a652e5151e8f942"
          }
        },
        "217a99ba3ad744dda7e98e7f8c02758b": {
          "model_module": "@jupyter-widgets/controls",
          "model_name": "FloatProgressModel",
          "model_module_version": "1.5.0",
          "state": {
            "_view_name": "ProgressView",
            "style": "IPY_MODEL_7065b728dbe24b7a88b92e5ffe69cd5d",
            "_dom_classes": [],
            "description": "",
            "_model_name": "FloatProgressModel",
            "bar_style": "success",
            "max": 666,
            "_view_module": "@jupyter-widgets/controls",
            "_model_module_version": "1.5.0",
            "value": 666,
            "_view_count": null,
            "_view_module_version": "1.5.0",
            "orientation": "horizontal",
            "min": 0,
            "description_tooltip": null,
            "_model_module": "@jupyter-widgets/controls",
            "layout": "IPY_MODEL_357b4bae167c4301be624d4738a879d6"
          }
        },
        "d236edde5d8a4facbbae99fa571ab777": {
          "model_module": "@jupyter-widgets/controls",
          "model_name": "HTMLModel",
          "model_module_version": "1.5.0",
          "state": {
            "_view_name": "HTMLView",
            "style": "IPY_MODEL_4699a83ca1ce4bdf8a92b08db0f96d11",
            "_dom_classes": [],
            "description": "",
            "_model_name": "HTMLModel",
            "placeholder": "​",
            "_view_module": "@jupyter-widgets/controls",
            "_model_module_version": "1.5.0",
            "value": " 666/666 [00:00&lt;00:00, 11.5kB/s]",
            "_view_count": null,
            "_view_module_version": "1.5.0",
            "description_tooltip": null,
            "_model_module": "@jupyter-widgets/controls",
            "layout": "IPY_MODEL_f5ebf3c1b84b4ee19d7a3c9ab8efadaf"
          }
        },
        "52c2c9499d4a4adfac1697eac41b313b": {
          "model_module": "@jupyter-widgets/controls",
          "model_name": "DescriptionStyleModel",
          "model_module_version": "1.5.0",
          "state": {
            "_view_name": "StyleView",
            "_model_name": "DescriptionStyleModel",
            "description_width": "",
            "_view_module": "@jupyter-widgets/base",
            "_model_module_version": "1.5.0",
            "_view_count": null,
            "_view_module_version": "1.2.0",
            "_model_module": "@jupyter-widgets/controls"
          }
        },
        "77a80084113e47fa8a652e5151e8f942": {
          "model_module": "@jupyter-widgets/base",
          "model_name": "LayoutModel",
          "model_module_version": "1.2.0",
          "state": {
            "_view_name": "LayoutView",
            "grid_template_rows": null,
            "right": null,
            "justify_content": null,
            "_view_module": "@jupyter-widgets/base",
            "overflow": null,
            "_model_module_version": "1.2.0",
            "_view_count": null,
            "flex_flow": null,
            "width": null,
            "min_width": null,
            "border": null,
            "align_items": null,
            "bottom": null,
            "_model_module": "@jupyter-widgets/base",
            "top": null,
            "grid_column": null,
            "overflow_y": null,
            "overflow_x": null,
            "grid_auto_flow": null,
            "grid_area": null,
            "grid_template_columns": null,
            "flex": null,
            "_model_name": "LayoutModel",
            "justify_items": null,
            "grid_row": null,
            "max_height": null,
            "align_content": null,
            "visibility": null,
            "align_self": null,
            "height": null,
            "min_height": null,
            "padding": null,
            "grid_auto_rows": null,
            "grid_gap": null,
            "max_width": null,
            "order": null,
            "_view_module_version": "1.2.0",
            "grid_template_areas": null,
            "object_position": null,
            "object_fit": null,
            "grid_auto_columns": null,
            "margin": null,
            "display": null,
            "left": null
          }
        },
        "7065b728dbe24b7a88b92e5ffe69cd5d": {
          "model_module": "@jupyter-widgets/controls",
          "model_name": "ProgressStyleModel",
          "model_module_version": "1.5.0",
          "state": {
            "_view_name": "StyleView",
            "_model_name": "ProgressStyleModel",
            "description_width": "",
            "_view_module": "@jupyter-widgets/base",
            "_model_module_version": "1.5.0",
            "_view_count": null,
            "_view_module_version": "1.2.0",
            "bar_color": null,
            "_model_module": "@jupyter-widgets/controls"
          }
        },
        "357b4bae167c4301be624d4738a879d6": {
          "model_module": "@jupyter-widgets/base",
          "model_name": "LayoutModel",
          "model_module_version": "1.2.0",
          "state": {
            "_view_name": "LayoutView",
            "grid_template_rows": null,
            "right": null,
            "justify_content": null,
            "_view_module": "@jupyter-widgets/base",
            "overflow": null,
            "_model_module_version": "1.2.0",
            "_view_count": null,
            "flex_flow": null,
            "width": null,
            "min_width": null,
            "border": null,
            "align_items": null,
            "bottom": null,
            "_model_module": "@jupyter-widgets/base",
            "top": null,
            "grid_column": null,
            "overflow_y": null,
            "overflow_x": null,
            "grid_auto_flow": null,
            "grid_area": null,
            "grid_template_columns": null,
            "flex": null,
            "_model_name": "LayoutModel",
            "justify_items": null,
            "grid_row": null,
            "max_height": null,
            "align_content": null,
            "visibility": null,
            "align_self": null,
            "height": null,
            "min_height": null,
            "padding": null,
            "grid_auto_rows": null,
            "grid_gap": null,
            "max_width": null,
            "order": null,
            "_view_module_version": "1.2.0",
            "grid_template_areas": null,
            "object_position": null,
            "object_fit": null,
            "grid_auto_columns": null,
            "margin": null,
            "display": null,
            "left": null
          }
        },
        "4699a83ca1ce4bdf8a92b08db0f96d11": {
          "model_module": "@jupyter-widgets/controls",
          "model_name": "DescriptionStyleModel",
          "model_module_version": "1.5.0",
          "state": {
            "_view_name": "StyleView",
            "_model_name": "DescriptionStyleModel",
            "description_width": "",
            "_view_module": "@jupyter-widgets/base",
            "_model_module_version": "1.5.0",
            "_view_count": null,
            "_view_module_version": "1.2.0",
            "_model_module": "@jupyter-widgets/controls"
          }
        },
        "f5ebf3c1b84b4ee19d7a3c9ab8efadaf": {
          "model_module": "@jupyter-widgets/base",
          "model_name": "LayoutModel",
          "model_module_version": "1.2.0",
          "state": {
            "_view_name": "LayoutView",
            "grid_template_rows": null,
            "right": null,
            "justify_content": null,
            "_view_module": "@jupyter-widgets/base",
            "overflow": null,
            "_model_module_version": "1.2.0",
            "_view_count": null,
            "flex_flow": null,
            "width": null,
            "min_width": null,
            "border": null,
            "align_items": null,
            "bottom": null,
            "_model_module": "@jupyter-widgets/base",
            "top": null,
            "grid_column": null,
            "overflow_y": null,
            "overflow_x": null,
            "grid_auto_flow": null,
            "grid_area": null,
            "grid_template_columns": null,
            "flex": null,
            "_model_name": "LayoutModel",
            "justify_items": null,
            "grid_row": null,
            "max_height": null,
            "align_content": null,
            "visibility": null,
            "align_self": null,
            "height": null,
            "min_height": null,
            "padding": null,
            "grid_auto_rows": null,
            "grid_gap": null,
            "max_width": null,
            "order": null,
            "_view_module_version": "1.2.0",
            "grid_template_areas": null,
            "object_position": null,
            "object_fit": null,
            "grid_auto_columns": null,
            "margin": null,
            "display": null,
            "left": null
          }
        },
        "191addae24df4bc3aeb885cffb2d8f85": {
          "model_module": "@jupyter-widgets/controls",
          "model_name": "HBoxModel",
          "model_module_version": "1.5.0",
          "state": {
            "_view_name": "HBoxView",
            "_dom_classes": [],
            "_model_name": "HBoxModel",
            "_view_module": "@jupyter-widgets/controls",
            "_model_module_version": "1.5.0",
            "_view_count": null,
            "_view_module_version": "1.5.0",
            "box_style": "",
            "layout": "IPY_MODEL_f69d82f5157540f1b5615c9e21297f32",
            "_model_module": "@jupyter-widgets/controls",
            "children": [
              "IPY_MODEL_1e43d7fc1a2e424f8b984f0005a7b4bb",
              "IPY_MODEL_a14c7cd91b4c4d07aa5d0abb0b4bbe80",
              "IPY_MODEL_ac71aa3ac71942b4a54e4032dc047760"
            ]
          }
        },
        "f69d82f5157540f1b5615c9e21297f32": {
          "model_module": "@jupyter-widgets/base",
          "model_name": "LayoutModel",
          "model_module_version": "1.2.0",
          "state": {
            "_view_name": "LayoutView",
            "grid_template_rows": null,
            "right": null,
            "justify_content": null,
            "_view_module": "@jupyter-widgets/base",
            "overflow": null,
            "_model_module_version": "1.2.0",
            "_view_count": null,
            "flex_flow": null,
            "width": null,
            "min_width": null,
            "border": null,
            "align_items": null,
            "bottom": null,
            "_model_module": "@jupyter-widgets/base",
            "top": null,
            "grid_column": null,
            "overflow_y": null,
            "overflow_x": null,
            "grid_auto_flow": null,
            "grid_area": null,
            "grid_template_columns": null,
            "flex": null,
            "_model_name": "LayoutModel",
            "justify_items": null,
            "grid_row": null,
            "max_height": null,
            "align_content": null,
            "visibility": null,
            "align_self": null,
            "height": null,
            "min_height": null,
            "padding": null,
            "grid_auto_rows": null,
            "grid_gap": null,
            "max_width": null,
            "order": null,
            "_view_module_version": "1.2.0",
            "grid_template_areas": null,
            "object_position": null,
            "object_fit": null,
            "grid_auto_columns": null,
            "margin": null,
            "display": null,
            "left": null
          }
        },
        "1e43d7fc1a2e424f8b984f0005a7b4bb": {
          "model_module": "@jupyter-widgets/controls",
          "model_name": "HTMLModel",
          "model_module_version": "1.5.0",
          "state": {
            "_view_name": "HTMLView",
            "style": "IPY_MODEL_7bd87e99a5d4498187a4df45461e6353",
            "_dom_classes": [],
            "description": "",
            "_model_name": "HTMLModel",
            "placeholder": "​",
            "_view_module": "@jupyter-widgets/controls",
            "_model_module_version": "1.5.0",
            "value": "100%",
            "_view_count": null,
            "_view_module_version": "1.5.0",
            "description_tooltip": null,
            "_model_module": "@jupyter-widgets/controls",
            "layout": "IPY_MODEL_0b9cd28c939f4ab09bdcc3aa97d04a5e"
          }
        },
        "a14c7cd91b4c4d07aa5d0abb0b4bbe80": {
          "model_module": "@jupyter-widgets/controls",
          "model_name": "FloatProgressModel",
          "model_module_version": "1.5.0",
          "state": {
            "_view_name": "ProgressView",
            "style": "IPY_MODEL_a65843d934454720ab599d6527c64157",
            "_dom_classes": [],
            "description": "",
            "_model_name": "FloatProgressModel",
            "bar_style": "success",
            "max": 483,
            "_view_module": "@jupyter-widgets/controls",
            "_model_module_version": "1.5.0",
            "value": 483,
            "_view_count": null,
            "_view_module_version": "1.5.0",
            "orientation": "horizontal",
            "min": 0,
            "description_tooltip": null,
            "_model_module": "@jupyter-widgets/controls",
            "layout": "IPY_MODEL_edef418c3d08478bbc14bc217a813acd"
          }
        },
        "ac71aa3ac71942b4a54e4032dc047760": {
          "model_module": "@jupyter-widgets/controls",
          "model_name": "HTMLModel",
          "model_module_version": "1.5.0",
          "state": {
            "_view_name": "HTMLView",
            "style": "IPY_MODEL_cc79764b82f14230823e732400920fbd",
            "_dom_classes": [],
            "description": "",
            "_model_name": "HTMLModel",
            "placeholder": "​",
            "_view_module": "@jupyter-widgets/controls",
            "_model_module_version": "1.5.0",
            "value": " 483/483 [00:00&lt;00:00, 14869.16it/s]",
            "_view_count": null,
            "_view_module_version": "1.5.0",
            "description_tooltip": null,
            "_model_module": "@jupyter-widgets/controls",
            "layout": "IPY_MODEL_f6bdeff2a64540a183797d676790eb00"
          }
        },
        "7bd87e99a5d4498187a4df45461e6353": {
          "model_module": "@jupyter-widgets/controls",
          "model_name": "DescriptionStyleModel",
          "model_module_version": "1.5.0",
          "state": {
            "_view_name": "StyleView",
            "_model_name": "DescriptionStyleModel",
            "description_width": "",
            "_view_module": "@jupyter-widgets/base",
            "_model_module_version": "1.5.0",
            "_view_count": null,
            "_view_module_version": "1.2.0",
            "_model_module": "@jupyter-widgets/controls"
          }
        },
        "0b9cd28c939f4ab09bdcc3aa97d04a5e": {
          "model_module": "@jupyter-widgets/base",
          "model_name": "LayoutModel",
          "model_module_version": "1.2.0",
          "state": {
            "_view_name": "LayoutView",
            "grid_template_rows": null,
            "right": null,
            "justify_content": null,
            "_view_module": "@jupyter-widgets/base",
            "overflow": null,
            "_model_module_version": "1.2.0",
            "_view_count": null,
            "flex_flow": null,
            "width": null,
            "min_width": null,
            "border": null,
            "align_items": null,
            "bottom": null,
            "_model_module": "@jupyter-widgets/base",
            "top": null,
            "grid_column": null,
            "overflow_y": null,
            "overflow_x": null,
            "grid_auto_flow": null,
            "grid_area": null,
            "grid_template_columns": null,
            "flex": null,
            "_model_name": "LayoutModel",
            "justify_items": null,
            "grid_row": null,
            "max_height": null,
            "align_content": null,
            "visibility": null,
            "align_self": null,
            "height": null,
            "min_height": null,
            "padding": null,
            "grid_auto_rows": null,
            "grid_gap": null,
            "max_width": null,
            "order": null,
            "_view_module_version": "1.2.0",
            "grid_template_areas": null,
            "object_position": null,
            "object_fit": null,
            "grid_auto_columns": null,
            "margin": null,
            "display": null,
            "left": null
          }
        },
        "a65843d934454720ab599d6527c64157": {
          "model_module": "@jupyter-widgets/controls",
          "model_name": "ProgressStyleModel",
          "model_module_version": "1.5.0",
          "state": {
            "_view_name": "StyleView",
            "_model_name": "ProgressStyleModel",
            "description_width": "",
            "_view_module": "@jupyter-widgets/base",
            "_model_module_version": "1.5.0",
            "_view_count": null,
            "_view_module_version": "1.2.0",
            "bar_color": null,
            "_model_module": "@jupyter-widgets/controls"
          }
        },
        "edef418c3d08478bbc14bc217a813acd": {
          "model_module": "@jupyter-widgets/base",
          "model_name": "LayoutModel",
          "model_module_version": "1.2.0",
          "state": {
            "_view_name": "LayoutView",
            "grid_template_rows": null,
            "right": null,
            "justify_content": null,
            "_view_module": "@jupyter-widgets/base",
            "overflow": null,
            "_model_module_version": "1.2.0",
            "_view_count": null,
            "flex_flow": null,
            "width": null,
            "min_width": null,
            "border": null,
            "align_items": null,
            "bottom": null,
            "_model_module": "@jupyter-widgets/base",
            "top": null,
            "grid_column": null,
            "overflow_y": null,
            "overflow_x": null,
            "grid_auto_flow": null,
            "grid_area": null,
            "grid_template_columns": null,
            "flex": null,
            "_model_name": "LayoutModel",
            "justify_items": null,
            "grid_row": null,
            "max_height": null,
            "align_content": null,
            "visibility": null,
            "align_self": null,
            "height": null,
            "min_height": null,
            "padding": null,
            "grid_auto_rows": null,
            "grid_gap": null,
            "max_width": null,
            "order": null,
            "_view_module_version": "1.2.0",
            "grid_template_areas": null,
            "object_position": null,
            "object_fit": null,
            "grid_auto_columns": null,
            "margin": null,
            "display": null,
            "left": null
          }
        },
        "cc79764b82f14230823e732400920fbd": {
          "model_module": "@jupyter-widgets/controls",
          "model_name": "DescriptionStyleModel",
          "model_module_version": "1.5.0",
          "state": {
            "_view_name": "StyleView",
            "_model_name": "DescriptionStyleModel",
            "description_width": "",
            "_view_module": "@jupyter-widgets/base",
            "_model_module_version": "1.5.0",
            "_view_count": null,
            "_view_module_version": "1.2.0",
            "_model_module": "@jupyter-widgets/controls"
          }
        },
        "f6bdeff2a64540a183797d676790eb00": {
          "model_module": "@jupyter-widgets/base",
          "model_name": "LayoutModel",
          "model_module_version": "1.2.0",
          "state": {
            "_view_name": "LayoutView",
            "grid_template_rows": null,
            "right": null,
            "justify_content": null,
            "_view_module": "@jupyter-widgets/base",
            "overflow": null,
            "_model_module_version": "1.2.0",
            "_view_count": null,
            "flex_flow": null,
            "width": null,
            "min_width": null,
            "border": null,
            "align_items": null,
            "bottom": null,
            "_model_module": "@jupyter-widgets/base",
            "top": null,
            "grid_column": null,
            "overflow_y": null,
            "overflow_x": null,
            "grid_auto_flow": null,
            "grid_area": null,
            "grid_template_columns": null,
            "flex": null,
            "_model_name": "LayoutModel",
            "justify_items": null,
            "grid_row": null,
            "max_height": null,
            "align_content": null,
            "visibility": null,
            "align_self": null,
            "height": null,
            "min_height": null,
            "padding": null,
            "grid_auto_rows": null,
            "grid_gap": null,
            "max_width": null,
            "order": null,
            "_view_module_version": "1.2.0",
            "grid_template_areas": null,
            "object_position": null,
            "object_fit": null,
            "grid_auto_columns": null,
            "margin": null,
            "display": null,
            "left": null
          }
        },
        "c96eb824eba14112b3dc5a19fe57c6d2": {
          "model_module": "@jupyter-widgets/controls",
          "model_name": "HBoxModel",
          "model_module_version": "1.5.0",
          "state": {
            "_view_name": "HBoxView",
            "_dom_classes": [],
            "_model_name": "HBoxModel",
            "_view_module": "@jupyter-widgets/controls",
            "_model_module_version": "1.5.0",
            "_view_count": null,
            "_view_module_version": "1.5.0",
            "box_style": "",
            "layout": "IPY_MODEL_e0e8f9d6bbde452dbb63eb15721d044e",
            "_model_module": "@jupyter-widgets/controls",
            "children": [
              "IPY_MODEL_94e3fbf4ebf14d2d85968861a11e7394",
              "IPY_MODEL_3e5431d62af841569cdd7c520a99f7d5",
              "IPY_MODEL_309d14202dbb4437bc72af411a80fe4e"
            ]
          }
        },
        "e0e8f9d6bbde452dbb63eb15721d044e": {
          "model_module": "@jupyter-widgets/base",
          "model_name": "LayoutModel",
          "model_module_version": "1.2.0",
          "state": {
            "_view_name": "LayoutView",
            "grid_template_rows": null,
            "right": null,
            "justify_content": null,
            "_view_module": "@jupyter-widgets/base",
            "overflow": null,
            "_model_module_version": "1.2.0",
            "_view_count": null,
            "flex_flow": null,
            "width": null,
            "min_width": null,
            "border": null,
            "align_items": null,
            "bottom": null,
            "_model_module": "@jupyter-widgets/base",
            "top": null,
            "grid_column": null,
            "overflow_y": null,
            "overflow_x": null,
            "grid_auto_flow": null,
            "grid_area": null,
            "grid_template_columns": null,
            "flex": null,
            "_model_name": "LayoutModel",
            "justify_items": null,
            "grid_row": null,
            "max_height": null,
            "align_content": null,
            "visibility": null,
            "align_self": null,
            "height": null,
            "min_height": null,
            "padding": null,
            "grid_auto_rows": null,
            "grid_gap": null,
            "max_width": null,
            "order": null,
            "_view_module_version": "1.2.0",
            "grid_template_areas": null,
            "object_position": null,
            "object_fit": null,
            "grid_auto_columns": null,
            "margin": null,
            "display": null,
            "left": null
          }
        },
        "94e3fbf4ebf14d2d85968861a11e7394": {
          "model_module": "@jupyter-widgets/controls",
          "model_name": "HTMLModel",
          "model_module_version": "1.5.0",
          "state": {
            "_view_name": "HTMLView",
            "style": "IPY_MODEL_f14fe1cad2cd44b9b083c09ca04797c7",
            "_dom_classes": [],
            "description": "",
            "_model_name": "HTMLModel",
            "placeholder": "​",
            "_view_module": "@jupyter-widgets/controls",
            "_model_module_version": "1.5.0",
            "value": "100%",
            "_view_count": null,
            "_view_module_version": "1.5.0",
            "description_tooltip": null,
            "_model_module": "@jupyter-widgets/controls",
            "layout": "IPY_MODEL_379b537aea0d4082b122d04e96b5cf9b"
          }
        },
        "3e5431d62af841569cdd7c520a99f7d5": {
          "model_module": "@jupyter-widgets/controls",
          "model_name": "FloatProgressModel",
          "model_module_version": "1.5.0",
          "state": {
            "_view_name": "ProgressView",
            "style": "IPY_MODEL_76a6b2e20347498cb175d6c12a4c4f0f",
            "_dom_classes": [],
            "description": "",
            "_model_name": "FloatProgressModel",
            "bar_style": "success",
            "max": 483,
            "_view_module": "@jupyter-widgets/controls",
            "_model_module_version": "1.5.0",
            "value": 483,
            "_view_count": null,
            "_view_module_version": "1.5.0",
            "orientation": "horizontal",
            "min": 0,
            "description_tooltip": null,
            "_model_module": "@jupyter-widgets/controls",
            "layout": "IPY_MODEL_4b41a320f618451ab9678f2eece69332"
          }
        },
        "309d14202dbb4437bc72af411a80fe4e": {
          "model_module": "@jupyter-widgets/controls",
          "model_name": "HTMLModel",
          "model_module_version": "1.5.0",
          "state": {
            "_view_name": "HTMLView",
            "style": "IPY_MODEL_b425f88fe7ac4ba6bb7c9615910e8970",
            "_dom_classes": [],
            "description": "",
            "_model_name": "HTMLModel",
            "placeholder": "​",
            "_view_module": "@jupyter-widgets/controls",
            "_model_module_version": "1.5.0",
            "value": " 483/483 [00:00&lt;00:00, 13639.14it/s]",
            "_view_count": null,
            "_view_module_version": "1.5.0",
            "description_tooltip": null,
            "_model_module": "@jupyter-widgets/controls",
            "layout": "IPY_MODEL_42abd7f204734b15bab31207ea17e59a"
          }
        },
        "f14fe1cad2cd44b9b083c09ca04797c7": {
          "model_module": "@jupyter-widgets/controls",
          "model_name": "DescriptionStyleModel",
          "model_module_version": "1.5.0",
          "state": {
            "_view_name": "StyleView",
            "_model_name": "DescriptionStyleModel",
            "description_width": "",
            "_view_module": "@jupyter-widgets/base",
            "_model_module_version": "1.5.0",
            "_view_count": null,
            "_view_module_version": "1.2.0",
            "_model_module": "@jupyter-widgets/controls"
          }
        },
        "379b537aea0d4082b122d04e96b5cf9b": {
          "model_module": "@jupyter-widgets/base",
          "model_name": "LayoutModel",
          "model_module_version": "1.2.0",
          "state": {
            "_view_name": "LayoutView",
            "grid_template_rows": null,
            "right": null,
            "justify_content": null,
            "_view_module": "@jupyter-widgets/base",
            "overflow": null,
            "_model_module_version": "1.2.0",
            "_view_count": null,
            "flex_flow": null,
            "width": null,
            "min_width": null,
            "border": null,
            "align_items": null,
            "bottom": null,
            "_model_module": "@jupyter-widgets/base",
            "top": null,
            "grid_column": null,
            "overflow_y": null,
            "overflow_x": null,
            "grid_auto_flow": null,
            "grid_area": null,
            "grid_template_columns": null,
            "flex": null,
            "_model_name": "LayoutModel",
            "justify_items": null,
            "grid_row": null,
            "max_height": null,
            "align_content": null,
            "visibility": null,
            "align_self": null,
            "height": null,
            "min_height": null,
            "padding": null,
            "grid_auto_rows": null,
            "grid_gap": null,
            "max_width": null,
            "order": null,
            "_view_module_version": "1.2.0",
            "grid_template_areas": null,
            "object_position": null,
            "object_fit": null,
            "grid_auto_columns": null,
            "margin": null,
            "display": null,
            "left": null
          }
        },
        "76a6b2e20347498cb175d6c12a4c4f0f": {
          "model_module": "@jupyter-widgets/controls",
          "model_name": "ProgressStyleModel",
          "model_module_version": "1.5.0",
          "state": {
            "_view_name": "StyleView",
            "_model_name": "ProgressStyleModel",
            "description_width": "",
            "_view_module": "@jupyter-widgets/base",
            "_model_module_version": "1.5.0",
            "_view_count": null,
            "_view_module_version": "1.2.0",
            "bar_color": null,
            "_model_module": "@jupyter-widgets/controls"
          }
        },
        "4b41a320f618451ab9678f2eece69332": {
          "model_module": "@jupyter-widgets/base",
          "model_name": "LayoutModel",
          "model_module_version": "1.2.0",
          "state": {
            "_view_name": "LayoutView",
            "grid_template_rows": null,
            "right": null,
            "justify_content": null,
            "_view_module": "@jupyter-widgets/base",
            "overflow": null,
            "_model_module_version": "1.2.0",
            "_view_count": null,
            "flex_flow": null,
            "width": null,
            "min_width": null,
            "border": null,
            "align_items": null,
            "bottom": null,
            "_model_module": "@jupyter-widgets/base",
            "top": null,
            "grid_column": null,
            "overflow_y": null,
            "overflow_x": null,
            "grid_auto_flow": null,
            "grid_area": null,
            "grid_template_columns": null,
            "flex": null,
            "_model_name": "LayoutModel",
            "justify_items": null,
            "grid_row": null,
            "max_height": null,
            "align_content": null,
            "visibility": null,
            "align_self": null,
            "height": null,
            "min_height": null,
            "padding": null,
            "grid_auto_rows": null,
            "grid_gap": null,
            "max_width": null,
            "order": null,
            "_view_module_version": "1.2.0",
            "grid_template_areas": null,
            "object_position": null,
            "object_fit": null,
            "grid_auto_columns": null,
            "margin": null,
            "display": null,
            "left": null
          }
        },
        "b425f88fe7ac4ba6bb7c9615910e8970": {
          "model_module": "@jupyter-widgets/controls",
          "model_name": "DescriptionStyleModel",
          "model_module_version": "1.5.0",
          "state": {
            "_view_name": "StyleView",
            "_model_name": "DescriptionStyleModel",
            "description_width": "",
            "_view_module": "@jupyter-widgets/base",
            "_model_module_version": "1.5.0",
            "_view_count": null,
            "_view_module_version": "1.2.0",
            "_model_module": "@jupyter-widgets/controls"
          }
        },
        "42abd7f204734b15bab31207ea17e59a": {
          "model_module": "@jupyter-widgets/base",
          "model_name": "LayoutModel",
          "model_module_version": "1.2.0",
          "state": {
            "_view_name": "LayoutView",
            "grid_template_rows": null,
            "right": null,
            "justify_content": null,
            "_view_module": "@jupyter-widgets/base",
            "overflow": null,
            "_model_module_version": "1.2.0",
            "_view_count": null,
            "flex_flow": null,
            "width": null,
            "min_width": null,
            "border": null,
            "align_items": null,
            "bottom": null,
            "_model_module": "@jupyter-widgets/base",
            "top": null,
            "grid_column": null,
            "overflow_y": null,
            "overflow_x": null,
            "grid_auto_flow": null,
            "grid_area": null,
            "grid_template_columns": null,
            "flex": null,
            "_model_name": "LayoutModel",
            "justify_items": null,
            "grid_row": null,
            "max_height": null,
            "align_content": null,
            "visibility": null,
            "align_self": null,
            "height": null,
            "min_height": null,
            "padding": null,
            "grid_auto_rows": null,
            "grid_gap": null,
            "max_width": null,
            "order": null,
            "_view_module_version": "1.2.0",
            "grid_template_areas": null,
            "object_position": null,
            "object_fit": null,
            "grid_auto_columns": null,
            "margin": null,
            "display": null,
            "left": null
          }
        },
        "7f221e4abd22457e8a3d13ac5180dd97": {
          "model_module": "@jupyter-widgets/controls",
          "model_name": "HBoxModel",
          "model_module_version": "1.5.0",
          "state": {
            "_view_name": "HBoxView",
            "_dom_classes": [],
            "_model_name": "HBoxModel",
            "_view_module": "@jupyter-widgets/controls",
            "_model_module_version": "1.5.0",
            "_view_count": null,
            "_view_module_version": "1.5.0",
            "box_style": "",
            "layout": "IPY_MODEL_481ee073f49743d4be14095b0d67f2ec",
            "_model_module": "@jupyter-widgets/controls",
            "children": [
              "IPY_MODEL_e210edc5be4d4ce59f16aebeb6f44f9b",
              "IPY_MODEL_5002ed3eedb8465692de2f02e409c728",
              "IPY_MODEL_6948244c482d4802844152baa1b08e1c"
            ]
          }
        },
        "481ee073f49743d4be14095b0d67f2ec": {
          "model_module": "@jupyter-widgets/base",
          "model_name": "LayoutModel",
          "model_module_version": "1.2.0",
          "state": {
            "_view_name": "LayoutView",
            "grid_template_rows": null,
            "right": null,
            "justify_content": null,
            "_view_module": "@jupyter-widgets/base",
            "overflow": null,
            "_model_module_version": "1.2.0",
            "_view_count": null,
            "flex_flow": null,
            "width": null,
            "min_width": null,
            "border": null,
            "align_items": null,
            "bottom": null,
            "_model_module": "@jupyter-widgets/base",
            "top": null,
            "grid_column": null,
            "overflow_y": null,
            "overflow_x": null,
            "grid_auto_flow": null,
            "grid_area": null,
            "grid_template_columns": null,
            "flex": null,
            "_model_name": "LayoutModel",
            "justify_items": null,
            "grid_row": null,
            "max_height": null,
            "align_content": null,
            "visibility": null,
            "align_self": null,
            "height": null,
            "min_height": null,
            "padding": null,
            "grid_auto_rows": null,
            "grid_gap": null,
            "max_width": null,
            "order": null,
            "_view_module_version": "1.2.0",
            "grid_template_areas": null,
            "object_position": null,
            "object_fit": null,
            "grid_auto_columns": null,
            "margin": null,
            "display": null,
            "left": null
          }
        },
        "e210edc5be4d4ce59f16aebeb6f44f9b": {
          "model_module": "@jupyter-widgets/controls",
          "model_name": "HTMLModel",
          "model_module_version": "1.5.0",
          "state": {
            "_view_name": "HTMLView",
            "style": "IPY_MODEL_cee7352008454eb7809f2375a45719e4",
            "_dom_classes": [],
            "description": "",
            "_model_name": "HTMLModel",
            "placeholder": "​",
            "_view_module": "@jupyter-widgets/controls",
            "_model_module_version": "1.5.0",
            "value": "100%",
            "_view_count": null,
            "_view_module_version": "1.5.0",
            "description_tooltip": null,
            "_model_module": "@jupyter-widgets/controls",
            "layout": "IPY_MODEL_3813dd5ccfa54b779bd62cf37db7b711"
          }
        },
        "5002ed3eedb8465692de2f02e409c728": {
          "model_module": "@jupyter-widgets/controls",
          "model_name": "FloatProgressModel",
          "model_module_version": "1.5.0",
          "state": {
            "_view_name": "ProgressView",
            "style": "IPY_MODEL_09c321e6d80143499f97df1bfd7e85e3",
            "_dom_classes": [],
            "description": "",
            "_model_name": "FloatProgressModel",
            "bar_style": "success",
            "max": 483,
            "_view_module": "@jupyter-widgets/controls",
            "_model_module_version": "1.5.0",
            "value": 483,
            "_view_count": null,
            "_view_module_version": "1.5.0",
            "orientation": "horizontal",
            "min": 0,
            "description_tooltip": null,
            "_model_module": "@jupyter-widgets/controls",
            "layout": "IPY_MODEL_f13864405e0e43058e84929c688caae7"
          }
        },
        "6948244c482d4802844152baa1b08e1c": {
          "model_module": "@jupyter-widgets/controls",
          "model_name": "HTMLModel",
          "model_module_version": "1.5.0",
          "state": {
            "_view_name": "HTMLView",
            "style": "IPY_MODEL_ae03986b8f8f47c092dcd50793e3b24c",
            "_dom_classes": [],
            "description": "",
            "_model_name": "HTMLModel",
            "placeholder": "​",
            "_view_module": "@jupyter-widgets/controls",
            "_model_module_version": "1.5.0",
            "value": " 483/483 [00:00&lt;00:00, 13872.45it/s]",
            "_view_count": null,
            "_view_module_version": "1.5.0",
            "description_tooltip": null,
            "_model_module": "@jupyter-widgets/controls",
            "layout": "IPY_MODEL_78d642212b5c48eaa0d0f2cf2f0c217a"
          }
        },
        "cee7352008454eb7809f2375a45719e4": {
          "model_module": "@jupyter-widgets/controls",
          "model_name": "DescriptionStyleModel",
          "model_module_version": "1.5.0",
          "state": {
            "_view_name": "StyleView",
            "_model_name": "DescriptionStyleModel",
            "description_width": "",
            "_view_module": "@jupyter-widgets/base",
            "_model_module_version": "1.5.0",
            "_view_count": null,
            "_view_module_version": "1.2.0",
            "_model_module": "@jupyter-widgets/controls"
          }
        },
        "3813dd5ccfa54b779bd62cf37db7b711": {
          "model_module": "@jupyter-widgets/base",
          "model_name": "LayoutModel",
          "model_module_version": "1.2.0",
          "state": {
            "_view_name": "LayoutView",
            "grid_template_rows": null,
            "right": null,
            "justify_content": null,
            "_view_module": "@jupyter-widgets/base",
            "overflow": null,
            "_model_module_version": "1.2.0",
            "_view_count": null,
            "flex_flow": null,
            "width": null,
            "min_width": null,
            "border": null,
            "align_items": null,
            "bottom": null,
            "_model_module": "@jupyter-widgets/base",
            "top": null,
            "grid_column": null,
            "overflow_y": null,
            "overflow_x": null,
            "grid_auto_flow": null,
            "grid_area": null,
            "grid_template_columns": null,
            "flex": null,
            "_model_name": "LayoutModel",
            "justify_items": null,
            "grid_row": null,
            "max_height": null,
            "align_content": null,
            "visibility": null,
            "align_self": null,
            "height": null,
            "min_height": null,
            "padding": null,
            "grid_auto_rows": null,
            "grid_gap": null,
            "max_width": null,
            "order": null,
            "_view_module_version": "1.2.0",
            "grid_template_areas": null,
            "object_position": null,
            "object_fit": null,
            "grid_auto_columns": null,
            "margin": null,
            "display": null,
            "left": null
          }
        },
        "09c321e6d80143499f97df1bfd7e85e3": {
          "model_module": "@jupyter-widgets/controls",
          "model_name": "ProgressStyleModel",
          "model_module_version": "1.5.0",
          "state": {
            "_view_name": "StyleView",
            "_model_name": "ProgressStyleModel",
            "description_width": "",
            "_view_module": "@jupyter-widgets/base",
            "_model_module_version": "1.5.0",
            "_view_count": null,
            "_view_module_version": "1.2.0",
            "bar_color": null,
            "_model_module": "@jupyter-widgets/controls"
          }
        },
        "f13864405e0e43058e84929c688caae7": {
          "model_module": "@jupyter-widgets/base",
          "model_name": "LayoutModel",
          "model_module_version": "1.2.0",
          "state": {
            "_view_name": "LayoutView",
            "grid_template_rows": null,
            "right": null,
            "justify_content": null,
            "_view_module": "@jupyter-widgets/base",
            "overflow": null,
            "_model_module_version": "1.2.0",
            "_view_count": null,
            "flex_flow": null,
            "width": null,
            "min_width": null,
            "border": null,
            "align_items": null,
            "bottom": null,
            "_model_module": "@jupyter-widgets/base",
            "top": null,
            "grid_column": null,
            "overflow_y": null,
            "overflow_x": null,
            "grid_auto_flow": null,
            "grid_area": null,
            "grid_template_columns": null,
            "flex": null,
            "_model_name": "LayoutModel",
            "justify_items": null,
            "grid_row": null,
            "max_height": null,
            "align_content": null,
            "visibility": null,
            "align_self": null,
            "height": null,
            "min_height": null,
            "padding": null,
            "grid_auto_rows": null,
            "grid_gap": null,
            "max_width": null,
            "order": null,
            "_view_module_version": "1.2.0",
            "grid_template_areas": null,
            "object_position": null,
            "object_fit": null,
            "grid_auto_columns": null,
            "margin": null,
            "display": null,
            "left": null
          }
        },
        "ae03986b8f8f47c092dcd50793e3b24c": {
          "model_module": "@jupyter-widgets/controls",
          "model_name": "DescriptionStyleModel",
          "model_module_version": "1.5.0",
          "state": {
            "_view_name": "StyleView",
            "_model_name": "DescriptionStyleModel",
            "description_width": "",
            "_view_module": "@jupyter-widgets/base",
            "_model_module_version": "1.5.0",
            "_view_count": null,
            "_view_module_version": "1.2.0",
            "_model_module": "@jupyter-widgets/controls"
          }
        },
        "78d642212b5c48eaa0d0f2cf2f0c217a": {
          "model_module": "@jupyter-widgets/base",
          "model_name": "LayoutModel",
          "model_module_version": "1.2.0",
          "state": {
            "_view_name": "LayoutView",
            "grid_template_rows": null,
            "right": null,
            "justify_content": null,
            "_view_module": "@jupyter-widgets/base",
            "overflow": null,
            "_model_module_version": "1.2.0",
            "_view_count": null,
            "flex_flow": null,
            "width": null,
            "min_width": null,
            "border": null,
            "align_items": null,
            "bottom": null,
            "_model_module": "@jupyter-widgets/base",
            "top": null,
            "grid_column": null,
            "overflow_y": null,
            "overflow_x": null,
            "grid_auto_flow": null,
            "grid_area": null,
            "grid_template_columns": null,
            "flex": null,
            "_model_name": "LayoutModel",
            "justify_items": null,
            "grid_row": null,
            "max_height": null,
            "align_content": null,
            "visibility": null,
            "align_self": null,
            "height": null,
            "min_height": null,
            "padding": null,
            "grid_auto_rows": null,
            "grid_gap": null,
            "max_width": null,
            "order": null,
            "_view_module_version": "1.2.0",
            "grid_template_areas": null,
            "object_position": null,
            "object_fit": null,
            "grid_auto_columns": null,
            "margin": null,
            "display": null,
            "left": null
          }
        }
      }
    },
    "accelerator": "GPU"
  },
  "cells": [
    {
      "cell_type": "code",
      "metadata": {
        "colab": {
          "base_uri": "https://localhost:8080/"
        },
        "id": "IMtT5RmH0KU6",
        "outputId": "16b5ee77-674f-4bf3-deba-94d7cfdfa840"
      },
      "source": [
        "!pip install transformers"
      ],
      "execution_count": null,
      "outputs": [
        {
          "output_type": "stream",
          "name": "stdout",
          "text": [
            "Collecting transformers\n",
            "  Downloading transformers-4.11.3-py3-none-any.whl (2.9 MB)\n",
            "\u001b[K     |████████████████████████████████| 2.9 MB 4.2 MB/s \n",
            "\u001b[?25hRequirement already satisfied: filelock in /usr/local/lib/python3.7/dist-packages (from transformers) (3.3.0)\n",
            "Requirement already satisfied: tqdm>=4.27 in /usr/local/lib/python3.7/dist-packages (from transformers) (4.62.3)\n",
            "Collecting tokenizers<0.11,>=0.10.1\n",
            "  Downloading tokenizers-0.10.3-cp37-cp37m-manylinux_2_5_x86_64.manylinux1_x86_64.manylinux_2_12_x86_64.manylinux2010_x86_64.whl (3.3 MB)\n",
            "\u001b[K     |████████████████████████████████| 3.3 MB 35.3 MB/s \n",
            "\u001b[?25hRequirement already satisfied: packaging>=20.0 in /usr/local/lib/python3.7/dist-packages (from transformers) (21.0)\n",
            "Requirement already satisfied: regex!=2019.12.17 in /usr/local/lib/python3.7/dist-packages (from transformers) (2019.12.20)\n",
            "Requirement already satisfied: importlib-metadata in /usr/local/lib/python3.7/dist-packages (from transformers) (4.8.1)\n",
            "Collecting huggingface-hub>=0.0.17\n",
            "  Downloading huggingface_hub-0.0.19-py3-none-any.whl (56 kB)\n",
            "\u001b[K     |████████████████████████████████| 56 kB 5.0 MB/s \n",
            "\u001b[?25hCollecting pyyaml>=5.1\n",
            "  Downloading PyYAML-5.4.1-cp37-cp37m-manylinux1_x86_64.whl (636 kB)\n",
            "\u001b[K     |████████████████████████████████| 636 kB 44.1 MB/s \n",
            "\u001b[?25hCollecting sacremoses\n",
            "  Downloading sacremoses-0.0.46-py3-none-any.whl (895 kB)\n",
            "\u001b[K     |████████████████████████████████| 895 kB 41.0 MB/s \n",
            "\u001b[?25hRequirement already satisfied: numpy>=1.17 in /usr/local/lib/python3.7/dist-packages (from transformers) (1.19.5)\n",
            "Requirement already satisfied: requests in /usr/local/lib/python3.7/dist-packages (from transformers) (2.23.0)\n",
            "Requirement already satisfied: typing-extensions in /usr/local/lib/python3.7/dist-packages (from huggingface-hub>=0.0.17->transformers) (3.7.4.3)\n",
            "Requirement already satisfied: pyparsing>=2.0.2 in /usr/local/lib/python3.7/dist-packages (from packaging>=20.0->transformers) (2.4.7)\n",
            "Requirement already satisfied: zipp>=0.5 in /usr/local/lib/python3.7/dist-packages (from importlib-metadata->transformers) (3.6.0)\n",
            "Requirement already satisfied: idna<3,>=2.5 in /usr/local/lib/python3.7/dist-packages (from requests->transformers) (2.10)\n",
            "Requirement already satisfied: certifi>=2017.4.17 in /usr/local/lib/python3.7/dist-packages (from requests->transformers) (2021.5.30)\n",
            "Requirement already satisfied: chardet<4,>=3.0.2 in /usr/local/lib/python3.7/dist-packages (from requests->transformers) (3.0.4)\n",
            "Requirement already satisfied: urllib3!=1.25.0,!=1.25.1,<1.26,>=1.21.1 in /usr/local/lib/python3.7/dist-packages (from requests->transformers) (1.24.3)\n",
            "Requirement already satisfied: joblib in /usr/local/lib/python3.7/dist-packages (from sacremoses->transformers) (1.0.1)\n",
            "Requirement already satisfied: six in /usr/local/lib/python3.7/dist-packages (from sacremoses->transformers) (1.15.0)\n",
            "Requirement already satisfied: click in /usr/local/lib/python3.7/dist-packages (from sacremoses->transformers) (7.1.2)\n",
            "Installing collected packages: pyyaml, tokenizers, sacremoses, huggingface-hub, transformers\n",
            "  Attempting uninstall: pyyaml\n",
            "    Found existing installation: PyYAML 3.13\n",
            "    Uninstalling PyYAML-3.13:\n",
            "      Successfully uninstalled PyYAML-3.13\n",
            "Successfully installed huggingface-hub-0.0.19 pyyaml-5.4.1 sacremoses-0.0.46 tokenizers-0.10.3 transformers-4.11.3\n"
          ]
        }
      ]
    },
    {
      "cell_type": "code",
      "metadata": {
        "id": "S3lYh_eL0X8k"
      },
      "source": [
        "import argparse\n",
        "from dataclasses import dataclass\n",
        "import json\n",
        "import logging\n",
        "import os\n",
        "import random\n",
        "import sys\n",
        "import time\n",
        "import warnings\n",
        "import numpy as np\n",
        "import scipy.stats as st\n",
        "import pandas as pd\n",
        "\n",
        "import matplotlib.pyplot as plt\n",
        "import numpy as np\n",
        "import torch\n",
        "import torch.nn as nn\n",
        "import torch.nn.functional as F\n",
        "from torch.utils.data import Dataset, DataLoader, RandomSampler, SequentialSampler\n",
        "\n",
        "import transformers\n",
        "#import wandb\n",
        "from tqdm.auto import tqdm, trange\n",
        "\n",
        "\n",
        "logger = logging.getLogger(__name__)\n",
        "logging.basicConfig(\n",
        "    format=\"%(asctime)s: %(message)s\",\n",
        "    datefmt=\"%m/%d/%Y %H:%M:%S\",\n",
        "    level=logging.INFO,\n",
        ")"
      ],
      "execution_count": null,
      "outputs": []
    },
    {
      "cell_type": "code",
      "metadata": {
        "id": "bg__sZBA0bjj"
      },
      "source": [
        "@dataclass\n",
        "class CustomArguments(transformers.TrainingArguments):\n",
        "    sample_train: int = 0\n",
        "    sample_eval: int = 0\n",
        "    num_choices: int = 0\n",
        "    model_name_or_path: str = \"asdf\"  # this is no longer a TrainingArgument attribute\n",
        "        \n",
        "    # python dataclasses cannot have positional attributes in subclass,\n",
        "    # so give all attributes defaults and then make sure they are changed\n",
        "    def __post_init__(self):\n",
        "        if not (self.sample_train * self.sample_eval * self.num_choices) or \\\n",
        "               self.model_name_or_path == \"asdf\":  # make sure none are still default value\n",
        "            raise TypeError(\"__init__ missing required argument(s)\")\n",
        "\n",
        "def get_args():\n",
        "    \"\"\" Set hyperparameters \"\"\"\n",
        "    args = CustomArguments(\n",
        "        output_dir=\"checkpoint\",\n",
        "        model_name_or_path=\"gpt2\",\n",
        "        overwrite_output_dir=True,\n",
        "        do_train=False,  # Zero shot\n",
        "        do_eval=True,\n",
        "        per_device_eval_batch_size=2,\n",
        "        learning_rate=1e-5,  # Should not matter because not training\n",
        "        weight_decay=0.1,\n",
        "        save_total_limit=2,\n",
        "        seed=123,\n",
        "        sample_train=200,\n",
        "        sample_eval=-1,\n",
        "        num_choices=3,\n",
        "    )\n",
        "    \n",
        "    return args"
      ],
      "execution_count": null,
      "outputs": []
    },
    {
      "cell_type": "code",
      "metadata": {
        "id": "6whthEXn0h4A"
      },
      "source": [
        "def get_data(file_path, sample, num_choices):\n",
        "    data_file = open(file_path, \"r\")\n",
        "    logger.info(\"Reading QA instances from jsonl dataset at: %s\", file_path)\n",
        "    item_jsons = []\n",
        "    item_ids = []\n",
        "    questions = []\n",
        "    choice_lists = []\n",
        "    answer_ids = []\n",
        "    for line in data_file:\n",
        "        item_jsons.append(json.loads(line.strip()))\n",
        "\n",
        "    if sample != -1:\n",
        "        item_jsons = random.sample(item_jsons, sample)\n",
        "        logger.info(\"Sampling %d examples\", sample)\n",
        "\n",
        "    for item_json in tqdm(item_jsons,total=len(item_jsons)):\n",
        "        item_id = item_json[\"id\"]\n",
        "\n",
        "        question_text = item_json[\"question\"][\"stem\"]\n",
        "\n",
        "        choice_label_to_id = {}\n",
        "        choice_text_list = []\n",
        "        choice_context_list = []\n",
        "        choice_label_list = []\n",
        "        choice_annotations_list = []\n",
        "\n",
        "        any_correct = False\n",
        "        choice_id_correction = 0\n",
        "\n",
        "        for choice_id, choice_item in enumerate(item_json[\"question\"][\"choices\"]):\n",
        "            choice_label = choice_item[\"label\"]\n",
        "            choice_label_to_id[choice_label] = choice_id - choice_id_correction\n",
        "            choice_text = choice_item[\"text\"]\n",
        "\n",
        "            choice_text_list.append(choice_text)\n",
        "            choice_label_list.append(choice_label)\n",
        "\n",
        "            if item_json.get('answerKey') == choice_label:\n",
        "                if any_correct:\n",
        "                    raise ValueError(\"More than one correct answer found for {item_json}!\")\n",
        "                any_correct = True\n",
        "\n",
        "\n",
        "        if not any_correct and 'answerKey' in item_json:\n",
        "            raise ValueError(\"No correct answer found for {item_json}!\")\n",
        "\n",
        "\n",
        "        answer_id = choice_label_to_id.get(item_json.get(\"answerKey\"))\n",
        "        # Pad choices with empty strings if not right number\n",
        "        if len(choice_text_list) != num_choices:\n",
        "            choice_text_list = (choice_text_list + num_choices * [''])[:num_choices]\n",
        "            choice_context_list = (choice_context_list + num_choices * [None])[:num_choices]\n",
        "            if answer_id is not None and answer_id >= num_choices:\n",
        "                logging.warning(f\"Skipping question with more than {num_choices} answers: {item_json}\")\n",
        "                continue\n",
        "\n",
        "        item_ids.append(item_id)\n",
        "        questions.append(question_text)\n",
        "        choice_lists.append(choice_text_list)\n",
        "        answer_ids.append(answer_id)\n",
        "\n",
        "    data_file.close()\n",
        "    return questions, choice_lists, answer_ids"
      ],
      "execution_count": null,
      "outputs": []
    },
    {
      "cell_type": "code",
      "metadata": {
        "id": "ZgPEPr0Z0jtl"
      },
      "source": [
        "class BERTDataset(Dataset):  # Only difference is that BERTDataset has token_type_ids while RoBERTaDataset doesn't\n",
        "    \n",
        "    def __init__(self, questions, choices, answer_ids, tokenizer):\n",
        "        out = tokenizer(questions)\n",
        "        self.input_ids = out[\"input_ids\"]\n",
        "        self.token_type_ids = out[\"token_type_ids\"]\n",
        "        self.attention_mask = out[\"attention_mask\"]\n",
        "        self.questions = questions\n",
        "        self.choices = choices\n",
        "        self.answer_ids = answer_ids\n",
        "        \n",
        "    def __len__(self):\n",
        "        return len(self.questions)\n",
        "\n",
        "    def __getitem__(self, i):\n",
        "        return {\n",
        "            \"input_ids\": self.input_ids[i], \n",
        "            \"attention_mask\": self.attention_mask[i], \n",
        "            \"token_type_ids\": self.token_type_ids[i],\n",
        "            \"choice_list\": self.choices[i], \n",
        "            \"answer_id\": self.answer_ids[i],\n",
        "        }\n",
        "    \n",
        "\n",
        "class RoBERTaDataset(Dataset):\n",
        "    \n",
        "    def __init__(self, questions, choices, answer_ids, tokenizer):\n",
        "        if any(prefix in args.model_name_or_path.lower() for prefix in (\"roberta\", \"bart\")):\n",
        "            questions = [question.replace('[MASK]','<mask>') for question in questions]\n",
        "        out = tokenizer(questions, max_length=45, padding=\"max_length\")\n",
        "        self.input_ids = out[\"input_ids\"]\n",
        "        self.attention_mask = out[\"attention_mask\"]\n",
        "        self.questions = questions\n",
        "        self.choices = choices\n",
        "        self.answer_ids = answer_ids\n",
        "        \n",
        "    def __len__(self):\n",
        "        return len(self.questions)\n",
        "\n",
        "    def __getitem__(self, i):\n",
        "        return {\n",
        "            \"input_ids\": self.input_ids[i], \n",
        "            \"attention_mask\": self.attention_mask[i], \n",
        "            \"choice_list\": self.choices[i], \n",
        "            \"answer_id\": self.answer_ids[i],\n",
        "        }"
      ],
      "execution_count": null,
      "outputs": []
    },
    {
      "cell_type": "code",
      "metadata": {
        "id": "buwJi-4R0pF-"
      },
      "source": [
        "def evaluate_qa_task(args, model, tokenizer, eval_dataset, data_path):\n",
        "   \n",
        "    eval_sampler = SequentialSampler(eval_dataset)\n",
        "    eval_dataloader = DataLoader(eval_dataset, sampler=eval_sampler, batch_size=args.per_device_eval_batch_size)\n",
        "\n",
        "    logger.info(f\"***** Running evaluation  *****\")\n",
        "    logger.info(f\"  Num examples = {len(eval_dataset)}\")\n",
        "    logger.info(f\"  Batch size = {args.eval_batch_size}\")\n",
        "    eval_dataloader = tqdm(eval_dataloader, desc=\"Evaluating\")\n",
        "\n",
        "    all_answers = []\n",
        "    all_preds = []\n",
        "\n",
        "    MASK_ID = tokenizer.encode(tokenizer.mask_token)\n",
        "    MASK_ID = MASK_ID[0]\n",
        "\n",
        "    for batch in eval_dataloader:\n",
        "        model.eval()\n",
        "        \n",
        "        for i in range(len(batch[\"choice_list\"][0])):\n",
        "            all_answers.append(batch[\"choice_list\"][batch[\"answer_id\"][i]][i])\n",
        "\n",
        "     \n",
        "        choice_lists = batch.pop(\"choice_list\")\n",
        "\n",
        "        del batch[\"answer_id\"] \n",
        "        for key in batch:\n",
        "            batch[key] = torch.stack(batch[key], dim=-1).cuda()\n",
        "      \n",
        "        \n",
        "        with torch.no_grad():\n",
        "          if data_path == \"hypernym_conjunction_dev.jsonl\":\n",
        "            #replace [MASK] with the index of first pad token as it will be the last token \n",
        "            for i in range(len(batch[\"input_ids\"])):\n",
        "                  question = batch[\"input_ids\"][i]\n",
        "                  MASK_INDEX = (question==tokenizer.mask_token_id).nonzero().item()\n",
        "                  batch[\"input_ids\"][i, MASK_INDEX] = 220\n",
        "            \n",
        "          outputs = model(**batch)\n",
        "          logits = outputs.logits\n",
        "          logits = torch.nn.functional.softmax(logits, dim=2)\n",
        "          choice_ids = []\n",
        "\n",
        "          for i, logit in enumerate(logits):  \n",
        "                first_pad_index = batch[\"input_ids\"][i].tolist().index(tokenizer.eos_token_id)\n",
        "                x =[\" \" + choice_lists[j][i] for j in range(len(choice_lists))]\n",
        "                choice_ids = torch.tensor([tokenizer.encode(\" \" + choice_lists[j][i], add_special_tokens=False)[0] for j in range(len(choice_lists))])\n",
        "                choice_ids = choice_ids.cuda()\n",
        "                probs = logit[first_pad_index-1].index_select(0, choice_ids).cuda()\n",
        "                max_ind = torch.argmax(probs)\n",
        "                all_preds.append(choice_lists[max_ind][i])\n",
        " \n",
        "    return all_answers, all_preds\n",
        "        "
      ],
      "execution_count": null,
      "outputs": []
    },
    {
      "cell_type": "code",
      "metadata": {
        "colab": {
          "base_uri": "https://localhost:8080/"
        },
        "id": "91l6a-HUx-qM",
        "outputId": "38bbe8b3-8b7a-4f6d-a120-638cb387789c"
      },
      "source": [
        "!wget https://olmpics.s3.us-east-2.amazonaws.com/challenge/conjunction/conjunction_filt4_dev.jsonl.gz\n",
        "!wget https://olmpics.s3.us-east-2.amazonaws.com/challenge/hypernym_conjunction/hypernym_conjunction_dev.jsonl.gz\n",
        "!wget https://olmpics.s3.us-east-2.amazonaws.com/challenge/composition/composition_v2_dev.jsonl.gz"
      ],
      "execution_count": null,
      "outputs": [
        {
          "output_type": "stream",
          "name": "stdout",
          "text": [
            "--2021-10-10 20:17:28--  https://olmpics.s3.us-east-2.amazonaws.com/challenge/conjunction/conjunction_filt4_dev.jsonl.gz\n",
            "Resolving olmpics.s3.us-east-2.amazonaws.com (olmpics.s3.us-east-2.amazonaws.com)... 52.219.97.170\n",
            "Connecting to olmpics.s3.us-east-2.amazonaws.com (olmpics.s3.us-east-2.amazonaws.com)|52.219.97.170|:443... connected.\n",
            "HTTP request sent, awaiting response... 200 OK\n",
            "Length: 26080 (25K) [binary/octet-stream]\n",
            "Saving to: ‘conjunction_filt4_dev.jsonl.gz’\n",
            "\n",
            "conjunction_filt4_d 100%[===================>]  25.47K   138KB/s    in 0.2s    \n",
            "\n",
            "2021-10-10 20:17:29 (138 KB/s) - ‘conjunction_filt4_dev.jsonl.gz’ saved [26080/26080]\n",
            "\n",
            "--2021-10-10 20:17:29--  https://olmpics.s3.us-east-2.amazonaws.com/challenge/hypernym_conjunction/hypernym_conjunction_dev.jsonl.gz\n",
            "Resolving olmpics.s3.us-east-2.amazonaws.com (olmpics.s3.us-east-2.amazonaws.com)... 52.219.97.170\n",
            "Connecting to olmpics.s3.us-east-2.amazonaws.com (olmpics.s3.us-east-2.amazonaws.com)|52.219.97.170|:443... connected.\n",
            "HTTP request sent, awaiting response... 200 OK\n",
            "Length: 21143 (21K) [binary/octet-stream]\n",
            "Saving to: ‘hypernym_conjunction_dev.jsonl.gz’\n",
            "\n",
            "hypernym_conjunctio 100%[===================>]  20.65K   112KB/s    in 0.2s    \n",
            "\n",
            "2021-10-10 20:17:30 (112 KB/s) - ‘hypernym_conjunction_dev.jsonl.gz’ saved [21143/21143]\n",
            "\n",
            "--2021-10-10 20:17:30--  https://olmpics.s3.us-east-2.amazonaws.com/challenge/composition/composition_v2_dev.jsonl.gz\n",
            "Resolving olmpics.s3.us-east-2.amazonaws.com (olmpics.s3.us-east-2.amazonaws.com)... 52.219.97.170\n",
            "Connecting to olmpics.s3.us-east-2.amazonaws.com (olmpics.s3.us-east-2.amazonaws.com)|52.219.97.170|:443... connected.\n",
            "HTTP request sent, awaiting response... 200 OK\n",
            "Length: 22395 (22K) [binary/octet-stream]\n",
            "Saving to: ‘composition_v2_dev.jsonl.gz’\n",
            "\n",
            "composition_v2_dev. 100%[===================>]  21.87K   118KB/s    in 0.2s    \n",
            "\n",
            "2021-10-10 20:17:31 (118 KB/s) - ‘composition_v2_dev.jsonl.gz’ saved [22395/22395]\n",
            "\n"
          ]
        }
      ]
    },
    {
      "cell_type": "code",
      "metadata": {
        "id": "VtFRlnBOyXnR"
      },
      "source": [
        "!gunzip conjunction_filt4_dev.jsonl.gz\n",
        "!gunzip hypernym_conjunction_dev.jsonl.gz\n",
        "!gunzip composition_v2_dev.jsonl.gz"
      ],
      "execution_count": null,
      "outputs": []
    },
    {
      "cell_type": "code",
      "metadata": {
        "colab": {
          "base_uri": "https://localhost:8080/",
          "height": 66,
          "referenced_widgets": [
            "fc4562dde1b5443dbace5f383a444e06",
            "32fa534dfce244f692ef73a6c1f31474",
            "13b3fb0c739d4b108ad0db665ee885c5",
            "110ae4131883492ab3f8019849acf49a",
            "73b6ce01842f46beb8af8261de38cb20",
            "3d18a32a67b1413993fc8b1e1c3f81e8",
            "d588ec7c685c4f969d03dd6217d05e21",
            "8a12098aca924ce7a87895ddb785e2e1",
            "db12bfab18d64b3b9d42700c22fa49fc",
            "e6be2c071d204521ae877d59a711990f",
            "6607d2fc5e054a1188daa88a0bcdba13"
          ]
        },
        "id": "rFSkD4OF0pVW",
        "outputId": "124a508f-b405-4c64-a442-c7b2a6e1a984"
      },
      "source": [
        ""
      ],
      "execution_count": null,
      "outputs": [
        {
          "output_type": "stream",
          "name": "stderr",
          "text": [
            "10/10/2021 20:48:59: Reading QA instances from jsonl dataset at: composition_v2_dev.jsonl\n"
          ]
        },
        {
          "output_type": "display_data",
          "data": {
            "application/vnd.jupyter.widget-view+json": {
              "model_id": "fc4562dde1b5443dbace5f383a444e06",
              "version_minor": 0,
              "version_major": 2
            },
            "text/plain": [
              "  0%|          | 0/500 [00:00<?, ?it/s]"
            ]
          },
          "metadata": {}
        }
      ]
    },
    {
      "cell_type": "code",
      "metadata": {
        "colab": {
          "base_uri": "https://localhost:8080/",
          "height": 605,
          "referenced_widgets": [
            "37d50d62c7654362ad52c30e8abf838f",
            "90cab21ab9ec4ed3a5b44000b1c4909f",
            "6f899722351e4f68b1022cd4b00c541a",
            "217a99ba3ad744dda7e98e7f8c02758b",
            "d236edde5d8a4facbbae99fa571ab777",
            "52c2c9499d4a4adfac1697eac41b313b",
            "77a80084113e47fa8a652e5151e8f942",
            "7065b728dbe24b7a88b92e5ffe69cd5d",
            "357b4bae167c4301be624d4738a879d6",
            "4699a83ca1ce4bdf8a92b08db0f96d11",
            "f5ebf3c1b84b4ee19d7a3c9ab8efadaf",
            "13eeffef47114b67af208158b94b97a0",
            "128ac46a068c45b3a72407086a1f4b8e",
            "67b18001ba264e0f9da575cdf0d1d790",
            "93fcac56b57849e989d607dc0d81b1d7"
          ]
        },
        "id": "ptRq6fzmK0Xb",
        "outputId": "f4c97973-f3e5-4f98-e1a9-34524940720f"
      },
      "source": [
        "model = transformers.AutoModelWithLMHead.from_pretrained(args.model_name_or_path).cuda()\n",
        "tokenizer = transformers.AutoTokenizer.from_pretrained(args.model_name_or_path , mask_token = '[MASK]')\n",
        "tokenizer.pad_token = tokenizer.eos_token"
      ],
      "execution_count": null,
      "outputs": [
        {
          "output_type": "stream",
          "name": "stderr",
          "text": [
            "/usr/local/lib/python3.7/dist-packages/transformers/models/auto/modeling_auto.py:664: FutureWarning: The class `AutoModelWithLMHead` is deprecated and will be removed in a future version. Please use `AutoModelForCausalLM` for causal language models, `AutoModelForMaskedLM` for masked language models and `AutoModelForSeq2SeqLM` for encoder-decoder models.\n",
            "  FutureWarning,\n",
            "10/10/2021 20:38:13: Attempting to acquire lock 139650166699472 on /root/.cache/huggingface/transformers/d82fb41558a2cc40bb6e10a57bbfbd9ff2f3c6614072f05afdfa8f44d566d2ba.55d263c4ba1f8b022997c21dfa03fb8933c57bc9c978354e0a62896cfd837a89.lock\n",
            "10/10/2021 20:38:13: Lock 139650166699472 acquired on /root/.cache/huggingface/transformers/d82fb41558a2cc40bb6e10a57bbfbd9ff2f3c6614072f05afdfa8f44d566d2ba.55d263c4ba1f8b022997c21dfa03fb8933c57bc9c978354e0a62896cfd837a89.lock\n"
          ]
        },
        {
          "output_type": "display_data",
          "data": {
            "application/vnd.jupyter.widget-view+json": {
              "model_id": "37d50d62c7654362ad52c30e8abf838f",
              "version_minor": 0,
              "version_major": 2
            },
            "text/plain": [
              "Downloading:   0%|          | 0.00/666 [00:00<?, ?B/s]"
            ]
          },
          "metadata": {}
        },
        {
          "output_type": "stream",
          "name": "stderr",
          "text": [
            "10/10/2021 20:38:14: Attempting to release lock 139650166699472 on /root/.cache/huggingface/transformers/d82fb41558a2cc40bb6e10a57bbfbd9ff2f3c6614072f05afdfa8f44d566d2ba.55d263c4ba1f8b022997c21dfa03fb8933c57bc9c978354e0a62896cfd837a89.lock\n",
            "10/10/2021 20:38:14: Lock 139650166699472 released on /root/.cache/huggingface/transformers/d82fb41558a2cc40bb6e10a57bbfbd9ff2f3c6614072f05afdfa8f44d566d2ba.55d263c4ba1f8b022997c21dfa03fb8933c57bc9c978354e0a62896cfd837a89.lock\n",
            "10/10/2021 20:38:14: Attempting to acquire lock 139650177315088 on /root/.cache/huggingface/transformers/234578a5793e64713ba846b4c5e181e043f48b33140622e2c1dd623b665de3f9.4780ef91b17260f8dac8a3c2183aa338b27365326fb706e74db40b03749f8aba.lock\n",
            "10/10/2021 20:38:14: Lock 139650177315088 acquired on /root/.cache/huggingface/transformers/234578a5793e64713ba846b4c5e181e043f48b33140622e2c1dd623b665de3f9.4780ef91b17260f8dac8a3c2183aa338b27365326fb706e74db40b03749f8aba.lock\n"
          ]
        },
        {
          "output_type": "display_data",
          "data": {
            "application/vnd.jupyter.widget-view+json": {
              "model_id": "13eeffef47114b67af208158b94b97a0",
              "version_minor": 0,
              "version_major": 2
            },
            "text/plain": [
              "Downloading:   0%|          | 0.00/3.02G [00:00<?, ?B/s]"
            ]
          },
          "metadata": {}
        },
        {
          "output_type": "stream",
          "name": "stderr",
          "text": [
            "10/10/2021 20:39:54: Attempting to release lock 139650177315088 on /root/.cache/huggingface/transformers/234578a5793e64713ba846b4c5e181e043f48b33140622e2c1dd623b665de3f9.4780ef91b17260f8dac8a3c2183aa338b27365326fb706e74db40b03749f8aba.lock\n",
            "10/10/2021 20:39:54: Lock 139650177315088 released on /root/.cache/huggingface/transformers/234578a5793e64713ba846b4c5e181e043f48b33140622e2c1dd623b665de3f9.4780ef91b17260f8dac8a3c2183aa338b27365326fb706e74db40b03749f8aba.lock\n",
            "10/10/2021 20:40:12: Attempting to acquire lock 139650215559056 on /root/.cache/huggingface/transformers/79f5e05af067df502528a0d902e82c24c3f1df9ae570c91fcc38e1f3c0af4c45.c7ed1f96aac49e745788faa77ba0a26a392643a50bb388b9c04ff469e555241f.lock\n",
            "10/10/2021 20:40:12: Lock 139650215559056 acquired on /root/.cache/huggingface/transformers/79f5e05af067df502528a0d902e82c24c3f1df9ae570c91fcc38e1f3c0af4c45.c7ed1f96aac49e745788faa77ba0a26a392643a50bb388b9c04ff469e555241f.lock\n"
          ]
        },
        {
          "output_type": "display_data",
          "data": {
            "application/vnd.jupyter.widget-view+json": {
              "model_id": "128ac46a068c45b3a72407086a1f4b8e",
              "version_minor": 0,
              "version_major": 2
            },
            "text/plain": [
              "Downloading:   0%|          | 0.00/0.99M [00:00<?, ?B/s]"
            ]
          },
          "metadata": {}
        },
        {
          "output_type": "stream",
          "name": "stderr",
          "text": [
            "10/10/2021 20:40:13: Attempting to release lock 139650215559056 on /root/.cache/huggingface/transformers/79f5e05af067df502528a0d902e82c24c3f1df9ae570c91fcc38e1f3c0af4c45.c7ed1f96aac49e745788faa77ba0a26a392643a50bb388b9c04ff469e555241f.lock\n",
            "10/10/2021 20:40:13: Lock 139650215559056 released on /root/.cache/huggingface/transformers/79f5e05af067df502528a0d902e82c24c3f1df9ae570c91fcc38e1f3c0af4c45.c7ed1f96aac49e745788faa77ba0a26a392643a50bb388b9c04ff469e555241f.lock\n",
            "10/10/2021 20:40:14: Attempting to acquire lock 139650239824784 on /root/.cache/huggingface/transformers/7f7bf8a7802a708af08a812bfbdec9335f2c30f761ec14a8cd17b0d61c818876.5d12962c5ee615a4c803841266e9c3be9a691a924f72d395d3a6c6c81157788b.lock\n",
            "10/10/2021 20:40:14: Lock 139650239824784 acquired on /root/.cache/huggingface/transformers/7f7bf8a7802a708af08a812bfbdec9335f2c30f761ec14a8cd17b0d61c818876.5d12962c5ee615a4c803841266e9c3be9a691a924f72d395d3a6c6c81157788b.lock\n"
          ]
        },
        {
          "output_type": "display_data",
          "data": {
            "application/vnd.jupyter.widget-view+json": {
              "model_id": "67b18001ba264e0f9da575cdf0d1d790",
              "version_minor": 0,
              "version_major": 2
            },
            "text/plain": [
              "Downloading:   0%|          | 0.00/446k [00:00<?, ?B/s]"
            ]
          },
          "metadata": {}
        },
        {
          "output_type": "stream",
          "name": "stderr",
          "text": [
            "10/10/2021 20:40:16: Attempting to release lock 139650239824784 on /root/.cache/huggingface/transformers/7f7bf8a7802a708af08a812bfbdec9335f2c30f761ec14a8cd17b0d61c818876.5d12962c5ee615a4c803841266e9c3be9a691a924f72d395d3a6c6c81157788b.lock\n",
            "10/10/2021 20:40:16: Lock 139650239824784 released on /root/.cache/huggingface/transformers/7f7bf8a7802a708af08a812bfbdec9335f2c30f761ec14a8cd17b0d61c818876.5d12962c5ee615a4c803841266e9c3be9a691a924f72d395d3a6c6c81157788b.lock\n",
            "10/10/2021 20:40:17: Attempting to acquire lock 139650240412752 on /root/.cache/huggingface/transformers/f1179e28982928f50ca02b0188fcd80fb4fa871ba1719df5bf81ac308d0d10af.cf2d0ecb83b6df91b3dbb53f1d1e4c311578bfd3aa0e04934215a49bf9898df0.lock\n",
            "10/10/2021 20:40:17: Lock 139650240412752 acquired on /root/.cache/huggingface/transformers/f1179e28982928f50ca02b0188fcd80fb4fa871ba1719df5bf81ac308d0d10af.cf2d0ecb83b6df91b3dbb53f1d1e4c311578bfd3aa0e04934215a49bf9898df0.lock\n"
          ]
        },
        {
          "output_type": "display_data",
          "data": {
            "application/vnd.jupyter.widget-view+json": {
              "model_id": "93fcac56b57849e989d607dc0d81b1d7",
              "version_minor": 0,
              "version_major": 2
            },
            "text/plain": [
              "Downloading:   0%|          | 0.00/1.29M [00:00<?, ?B/s]"
            ]
          },
          "metadata": {}
        },
        {
          "output_type": "stream",
          "name": "stderr",
          "text": [
            "10/10/2021 20:40:19: Attempting to release lock 139650240412752 on /root/.cache/huggingface/transformers/f1179e28982928f50ca02b0188fcd80fb4fa871ba1719df5bf81ac308d0d10af.cf2d0ecb83b6df91b3dbb53f1d1e4c311578bfd3aa0e04934215a49bf9898df0.lock\n",
            "10/10/2021 20:40:19: Lock 139650240412752 released on /root/.cache/huggingface/transformers/f1179e28982928f50ca02b0188fcd80fb4fa871ba1719df5bf81ac308d0d10af.cf2d0ecb83b6df91b3dbb53f1d1e4c311578bfd3aa0e04934215a49bf9898df0.lock\n",
            "Special tokens have been added in the vocabulary, make sure the associated word embeddings are fine-tuned or trained.\n"
          ]
        }
      ]
    },
    {
      "cell_type": "code",
      "metadata": {
        "colab": {
          "base_uri": "https://localhost:8080/",
          "height": 66,
          "referenced_widgets": [
            "191addae24df4bc3aeb885cffb2d8f85",
            "f69d82f5157540f1b5615c9e21297f32",
            "1e43d7fc1a2e424f8b984f0005a7b4bb",
            "a14c7cd91b4c4d07aa5d0abb0b4bbe80",
            "ac71aa3ac71942b4a54e4032dc047760",
            "7bd87e99a5d4498187a4df45461e6353",
            "0b9cd28c939f4ab09bdcc3aa97d04a5e",
            "a65843d934454720ab599d6527c64157",
            "edef418c3d08478bbc14bc217a813acd",
            "cc79764b82f14230823e732400920fbd",
            "f6bdeff2a64540a183797d676790eb00"
          ]
        },
        "id": "wthAW3xD93jX",
        "outputId": "2e2006b0-f950-47f6-9e10-600b785452f7"
      },
      "source": [
        "args = get_args()\n",
        "transformers.set_seed(args.seed)\n",
        "\n",
        "'''\n",
        "data = \"hypernym_conjunction_dev.jsonl\", args.num_choices = 3\n",
        "data = \"composition_v2_dev.jsonl\", args.num_choices = 3\n",
        "data = \"conjunction_filt4_dev.jsonl\", args.num_choices = 3\n",
        "'''\n",
        "args.num_choices = 3\n",
        "args.model_name_or_path = 'gpt2'\n",
        "data_path = \"conjunction_filt4_dev.jsonl\"\n",
        "data = data_path\n",
        "\n",
        "\n",
        "#train_questions, train_choices, train_answer_ids = get_data(, args.sample_train, args.num_choices)\n",
        "eval_questions, eval_choices, eval_answer_ids = get_data(data_path, args.sample_eval, args.num_choices)"
      ],
      "execution_count": null,
      "outputs": [
        {
          "output_type": "stream",
          "name": "stderr",
          "text": [
            "10/10/2021 20:52:56: Reading QA instances from jsonl dataset at: conjunction_filt4_dev.jsonl\n"
          ]
        },
        {
          "output_type": "display_data",
          "data": {
            "application/vnd.jupyter.widget-view+json": {
              "model_id": "191addae24df4bc3aeb885cffb2d8f85",
              "version_minor": 0,
              "version_major": 2
            },
            "text/plain": [
              "  0%|          | 0/483 [00:00<?, ?it/s]"
            ]
          },
          "metadata": {}
        }
      ]
    },
    {
      "cell_type": "code",
      "metadata": {
        "id": "Xi7ZT4V_zNj2"
      },
      "source": [
        "AgeDataset = RoBERTaDataset if any(prefix in args.model_name_or_path.lower() for prefix in (\"roberta\", \"bart\", \"distil\", \"gpt\")) else BERTDataset"
      ],
      "execution_count": null,
      "outputs": []
    },
    {
      "cell_type": "code",
      "metadata": {
        "colab": {
          "base_uri": "https://localhost:8080/",
          "height": 66,
          "referenced_widgets": [
            "c96eb824eba14112b3dc5a19fe57c6d2",
            "e0e8f9d6bbde452dbb63eb15721d044e",
            "94e3fbf4ebf14d2d85968861a11e7394",
            "3e5431d62af841569cdd7c520a99f7d5",
            "309d14202dbb4437bc72af411a80fe4e",
            "f14fe1cad2cd44b9b083c09ca04797c7",
            "379b537aea0d4082b122d04e96b5cf9b",
            "76a6b2e20347498cb175d6c12a4c4f0f",
            "4b41a320f618451ab9678f2eece69332",
            "b425f88fe7ac4ba6bb7c9615910e8970",
            "42abd7f204734b15bab31207ea17e59a"
          ]
        },
        "id": "JCyp43Xp1r2V",
        "outputId": "00d1a580-8f02-4f97-cb15-3ce016bd8a3d"
      },
      "source": [
        "eval_questions, eval_choices, eval_answer_ids = get_data(data_path, args.sample_eval, args.num_choices)"
      ],
      "execution_count": null,
      "outputs": [
        {
          "output_type": "stream",
          "name": "stderr",
          "text": [
            "10/10/2021 20:52:59: Reading QA instances from jsonl dataset at: conjunction_filt4_dev.jsonl\n"
          ]
        },
        {
          "output_type": "display_data",
          "data": {
            "application/vnd.jupyter.widget-view+json": {
              "model_id": "c96eb824eba14112b3dc5a19fe57c6d2",
              "version_minor": 0,
              "version_major": 2
            },
            "text/plain": [
              "  0%|          | 0/483 [00:00<?, ?it/s]"
            ]
          },
          "metadata": {}
        }
      ]
    },
    {
      "cell_type": "code",
      "metadata": {
        "colab": {
          "base_uri": "https://localhost:8080/",
          "height": 692,
          "referenced_widgets": [
            "7f221e4abd22457e8a3d13ac5180dd97",
            "481ee073f49743d4be14095b0d67f2ec",
            "e210edc5be4d4ce59f16aebeb6f44f9b",
            "5002ed3eedb8465692de2f02e409c728",
            "6948244c482d4802844152baa1b08e1c",
            "cee7352008454eb7809f2375a45719e4",
            "3813dd5ccfa54b779bd62cf37db7b711",
            "09c321e6d80143499f97df1bfd7e85e3",
            "f13864405e0e43058e84929c688caae7",
            "ae03986b8f8f47c092dcd50793e3b24c",
            "78d642212b5c48eaa0d0f2cf2f0c217a",
            "8eba184b63e24efbaecfc1498e10f480",
            "3547ce1a498c4adfb1c2b37b96890a92",
            "bbdd58e30319496096666680f425bf8e",
            "ac562bae0da047638fe246665368a543",
            "c747325b4a9e4743bb313fb06e16e83c",
            "5f0fb611206c4890a5d199c1fc4b961d",
            "71585f0e9c484709814ff67e969535ed",
            "78cc75858dec42cfa5fae2ed026544a4",
            "655c1f1b6b404528bb7804d24318bb14"
          ]
        },
        "id": "y_vr0ZkAv3jv",
        "outputId": "c9b00293-b4d5-41f8-8d13-f2b687c97eb5"
      },
      "source": [
        "accuracy = []\n",
        "for i in range(5):\n",
        "  eval_questions, eval_choices, eval_answer_ids = get_data(data, args.sample_eval, args.num_choices)\n",
        "  combined_dataset = {'que': eval_questions, 'choices': eval_choices, 'ids': eval_answer_ids, }\n",
        "  combined_dataset = pd.DataFrame(data=combined_dataset)\n",
        "  sampled_dataset = combined_dataset.sample(frac = 0.8)\n",
        "  eval_questions = list(sampled_dataset['que'])\n",
        "  eval_choices = list(sampled_dataset['choices'])\n",
        "  eval_answer_ids = list(sampled_dataset['ids'])\n",
        "\n",
        "  eval_dataset = AgeDataset(eval_questions, eval_choices, eval_answer_ids, tokenizer)\n",
        "  all_answers, all_preds = evaluate_qa_task(args, model, tokenizer, eval_dataset, data_path)\n",
        "  a = 0\n",
        "  b = 0\n",
        "  for i in range(len(all_answers)):\n",
        "    if all_preds[i] != -1:\n",
        "        b += 1\n",
        "        if all_preds[i] == all_answers[i]:\n",
        "            a += 1\n",
        "  current_acc = a/b\n",
        "  accuracy.append(current_acc)"
      ],
      "execution_count": null,
      "outputs": [
        {
          "output_type": "stream",
          "name": "stderr",
          "text": [
            "10/10/2021 20:52:59: Reading QA instances from jsonl dataset at: conjunction_filt4_dev.jsonl\n"
          ]
        },
        {
          "output_type": "display_data",
          "data": {
            "application/vnd.jupyter.widget-view+json": {
              "model_id": "7f221e4abd22457e8a3d13ac5180dd97",
              "version_minor": 0,
              "version_major": 2
            },
            "text/plain": [
              "  0%|          | 0/483 [00:00<?, ?it/s]"
            ]
          },
          "metadata": {}
        },
        {
          "output_type": "stream",
          "name": "stderr",
          "text": [
            "10/10/2021 20:52:59: ***** Running evaluation  *****\n",
            "10/10/2021 20:52:59:   Num examples = 386\n",
            "10/10/2021 20:52:59:   Batch size = 2\n"
          ]
        },
        {
          "output_type": "display_data",
          "data": {
            "application/vnd.jupyter.widget-view+json": {
              "model_id": "8eba184b63e24efbaecfc1498e10f480",
              "version_minor": 0,
              "version_major": 2
            },
            "text/plain": [
              "Evaluating:   0%|          | 0/193 [00:00<?, ?it/s]"
            ]
          },
          "metadata": {}
        },
        {
          "output_type": "stream",
          "name": "stderr",
          "text": [
            "10/10/2021 20:53:34: Reading QA instances from jsonl dataset at: conjunction_filt4_dev.jsonl\n"
          ]
        },
        {
          "output_type": "display_data",
          "data": {
            "application/vnd.jupyter.widget-view+json": {
              "model_id": "3547ce1a498c4adfb1c2b37b96890a92",
              "version_minor": 0,
              "version_major": 2
            },
            "text/plain": [
              "  0%|          | 0/483 [00:00<?, ?it/s]"
            ]
          },
          "metadata": {}
        },
        {
          "output_type": "stream",
          "name": "stderr",
          "text": [
            "10/10/2021 20:53:34: ***** Running evaluation  *****\n",
            "10/10/2021 20:53:34:   Num examples = 386\n",
            "10/10/2021 20:53:34:   Batch size = 2\n"
          ]
        },
        {
          "output_type": "display_data",
          "data": {
            "application/vnd.jupyter.widget-view+json": {
              "model_id": "bbdd58e30319496096666680f425bf8e",
              "version_minor": 0,
              "version_major": 2
            },
            "text/plain": [
              "Evaluating:   0%|          | 0/193 [00:00<?, ?it/s]"
            ]
          },
          "metadata": {}
        },
        {
          "output_type": "stream",
          "name": "stderr",
          "text": [
            "10/10/2021 20:54:08: Reading QA instances from jsonl dataset at: conjunction_filt4_dev.jsonl\n"
          ]
        },
        {
          "output_type": "display_data",
          "data": {
            "application/vnd.jupyter.widget-view+json": {
              "model_id": "ac562bae0da047638fe246665368a543",
              "version_minor": 0,
              "version_major": 2
            },
            "text/plain": [
              "  0%|          | 0/483 [00:00<?, ?it/s]"
            ]
          },
          "metadata": {}
        },
        {
          "output_type": "stream",
          "name": "stderr",
          "text": [
            "10/10/2021 20:54:08: ***** Running evaluation  *****\n",
            "10/10/2021 20:54:08:   Num examples = 386\n",
            "10/10/2021 20:54:08:   Batch size = 2\n"
          ]
        },
        {
          "output_type": "display_data",
          "data": {
            "application/vnd.jupyter.widget-view+json": {
              "model_id": "c747325b4a9e4743bb313fb06e16e83c",
              "version_minor": 0,
              "version_major": 2
            },
            "text/plain": [
              "Evaluating:   0%|          | 0/193 [00:00<?, ?it/s]"
            ]
          },
          "metadata": {}
        },
        {
          "output_type": "stream",
          "name": "stderr",
          "text": [
            "10/10/2021 20:54:42: Reading QA instances from jsonl dataset at: conjunction_filt4_dev.jsonl\n"
          ]
        },
        {
          "output_type": "display_data",
          "data": {
            "application/vnd.jupyter.widget-view+json": {
              "model_id": "5f0fb611206c4890a5d199c1fc4b961d",
              "version_minor": 0,
              "version_major": 2
            },
            "text/plain": [
              "  0%|          | 0/483 [00:00<?, ?it/s]"
            ]
          },
          "metadata": {}
        },
        {
          "output_type": "stream",
          "name": "stderr",
          "text": [
            "10/10/2021 20:54:42: ***** Running evaluation  *****\n",
            "10/10/2021 20:54:42:   Num examples = 386\n",
            "10/10/2021 20:54:42:   Batch size = 2\n"
          ]
        },
        {
          "output_type": "display_data",
          "data": {
            "application/vnd.jupyter.widget-view+json": {
              "model_id": "71585f0e9c484709814ff67e969535ed",
              "version_minor": 0,
              "version_major": 2
            },
            "text/plain": [
              "Evaluating:   0%|          | 0/193 [00:00<?, ?it/s]"
            ]
          },
          "metadata": {}
        },
        {
          "output_type": "stream",
          "name": "stderr",
          "text": [
            "10/10/2021 20:55:17: Reading QA instances from jsonl dataset at: conjunction_filt4_dev.jsonl\n"
          ]
        },
        {
          "output_type": "display_data",
          "data": {
            "application/vnd.jupyter.widget-view+json": {
              "model_id": "78cc75858dec42cfa5fae2ed026544a4",
              "version_minor": 0,
              "version_major": 2
            },
            "text/plain": [
              "  0%|          | 0/483 [00:00<?, ?it/s]"
            ]
          },
          "metadata": {}
        },
        {
          "output_type": "stream",
          "name": "stderr",
          "text": [
            "10/10/2021 20:55:17: ***** Running evaluation  *****\n",
            "10/10/2021 20:55:17:   Num examples = 386\n",
            "10/10/2021 20:55:17:   Batch size = 2\n"
          ]
        },
        {
          "output_type": "display_data",
          "data": {
            "application/vnd.jupyter.widget-view+json": {
              "model_id": "655c1f1b6b404528bb7804d24318bb14",
              "version_minor": 0,
              "version_major": 2
            },
            "text/plain": [
              "Evaluating:   0%|          | 0/193 [00:00<?, ?it/s]"
            ]
          },
          "metadata": {}
        }
      ]
    },
    {
      "cell_type": "code",
      "metadata": {
        "colab": {
          "base_uri": "https://localhost:8080/"
        },
        "id": "Z6z33LZW5AXx",
        "outputId": "aee84ded-99a2-453d-c43b-b37b211c773e"
      },
      "source": [
        "accuracy"
      ],
      "execution_count": null,
      "outputs": [
        {
          "output_type": "execute_result",
          "data": {
            "text/plain": [
              "[0.45595854922279794,\n",
              " 0.47668393782383417,\n",
              " 0.4533678756476684,\n",
              " 0.4792746113989637,\n",
              " 0.4689119170984456]"
            ]
          },
          "metadata": {},
          "execution_count": 97
        }
      ]
    },
    {
      "cell_type": "code",
      "metadata": {
        "id": "HwwR0O0dwa_s"
      },
      "source": [
        "#create 95% confidence interval for population mean weight\n",
        "mini, maxi = st.t.interval(alpha=0.95, df=len(accuracy)-1, loc=np.mean(accuracy), scale=st.sem(accuracy))\n",
        "accuracy = np.array(accuracy)"
      ],
      "execution_count": null,
      "outputs": []
    },
    {
      "cell_type": "code",
      "metadata": {
        "colab": {
          "base_uri": "https://localhost:8080/"
        },
        "id": "Ty4bUIlm4Mgi",
        "outputId": "d0fc15a2-1118-4c29-98b7-8702522f84bc"
      },
      "source": [
        "print(\"The accuracy is of {} for {} task is {} +- {}\".format(args.model_name_or_path, data_path, accuracy.mean()*100 ,-1*accuracy.mean()*100+maxi*100))"
      ],
      "execution_count": null,
      "outputs": [
        {
          "output_type": "stream",
          "name": "stdout",
          "text": [
            "The accuracy is of gpt2-large for conjunction_filt4_dev.jsonl task is 46.68393782383419 +- 1.4635311049340203\n"
          ]
        }
      ]
    },
    {
      "cell_type": "code",
      "metadata": {
        "id": "ZbdD0C723kA3"
      },
      "source": [
        "#gpt2\n",
        "#hypernym_conjunction_dev - taxonomy\n",
        "#[0.47807933, 0.47807933, 0.49060543, 0.49478079, 0.47807933]\n",
        "# 48.39248434237996 +- 1.0106257733482593\n",
        "\n",
        "#composition_v2_dev - encyclopedia\n",
        "#[0.3425, 0.315, 0.3175, 0.3175, 0.3025]\n",
        "#31.900000000000002 +- 1.8046893183785677\n",
        "\n",
        "#conjunction_filt4_dev - propoerty\n",
        "#[0.422279792746114,  0.4326424870466321,  0.43005181347150256,  0.43523316062176165,  0.4326424870466321]\n",
        "#43.056994818652846 +- 0.6187534684196834"
      ],
      "execution_count": null,
      "outputs": []
    },
    {
      "cell_type": "code",
      "metadata": {
        "id": "eKGGMI0K5KpV"
      },
      "source": [
        "#gpt2-medium\n",
        "#hypernym_conjunction_dev\n",
        "#[0.4822546972860125,\n",
        " 0.4906054279749478,\n",
        " 0.4801670146137787,\n",
        " 0.5135699373695198,\n",
        " 0.48851774530271397]\n",
        "# 49.102296450939455 +- 1.6537344753589593\n",
        "\n",
        "#composition_v2_dev\n",
        "#[0.3425, 0.315, 0.3175, 0.3175, 0.3025]\n",
        "# 31.900000000000002 +- 1.8046893183785677\n",
        "\n",
        "#conjunction_filt4_dev\n",
        "#[0.422279792746114,\n",
        " 0.4326424870466321,\n",
        " 0.43005181347150256,\n",
        " 0.43523316062176165,\n",
        " 0.4326424870466321]\n",
        "# 43.056994818652846 +- 0.6187534684196834"
      ],
      "execution_count": null,
      "outputs": []
    },
    {
      "cell_type": "code",
      "metadata": {
        "id": "rug71-vE5PHP"
      },
      "source": [
        "#gpt2-large\n",
        "#hypernym_conjunction_dev\n",
        "#[0.4592901878914405,\n",
        " 0.4613778705636743,\n",
        " 0.4613778705636743,\n",
        " 0.4822546972860125,\n",
        " 0.4822546972860125]\n",
        "# 46.93110647181628 +- 1.470945261131689\n",
        "\n",
        "#composition_v2_dev\n",
        "#[0.375, 0.36, 0.35, 0.345, 0.3475]\n",
        "#46.93110647181628 +- 1.47094526113168\n",
        "\n",
        "#conjunction_filt4_dev\n",
        "#[0.45595854922279794,\n",
        " 0.47668393782383417,\n",
        " 0.4533678756476684,\n",
        " 0.4792746113989637,\n",
        " 0.4689119170984456]\n",
        "#46.68393782383419 +- 1.4635311049340203"
      ],
      "execution_count": null,
      "outputs": []
    }
  ]
}